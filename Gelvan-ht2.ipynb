{
 "cells": [
  {
   "cell_type": "markdown",
   "metadata": {},
   "source": [
    "# Homework №2"
   ]
  },
  {
   "cell_type": "markdown",
   "metadata": {},
   "source": [
    "This homework will be dedicated to **ASR & Co**.\n",
    "\n",
    "In general, you may implement any ASR model that was discussed in the lecture,\n",
    "but we recommend to implement **QuartzNet**.\n",
    "\n",
    "## **Important aspects (model)**\n",
    "1) Pay attention on different length of utterances. P.S. **masking**.\n",
    "    \n",
    "2) A good ASR is a robust ASR, so we ask you to implement and use at least **4 types of augmentations** (P.S. 2 seminar).\n",
    "\n",
    "3) Also, to get better quality, we ask you to implement a **beam search** for better decoding.\n",
    "\n",
    "4) (Bonus) As a bonus you can use **BPE** instead of Char. You can use SentencePiece, HuggingFace or YouTokenToMe.\n",
    "\n",
    "5) (Bonus) As a bonus you can take pretrained **LM** (or train yourself) and fusing LM with ASR.\n",
    "    Way of fusing you may choose yourself.\n",
    "\n",
    "## **Important aspects (code)**\n",
    "1) You already know about pytorch-lighting (I hope :)) but you are not allowed to use it in this homework.\n",
    "\n",
    "2) Try to write code more structurally and cleanly !\n",
    "\n",
    "3) Good logging of experiments save your nerves and time,\n",
    "    so we ask you to use **W&B** and log at least loss, WER, CER and pairs (audio -- recognized text).\n",
    "    **Do not remove** the logs until we have checked your work and given you a grade!\n",
    "\n",
    "4) We also ask you to organize your code in github repo with Docker and setup.py. You can use my template https://github.com/markovka17/dl-start-pack.\n",
    "\n",
    "5) Your work **must be** reproducable, so fix seed, save the weights of model, and etc.\n",
    "\n",
    "6) In the end of your work write inference utils. Anyone should be able to take your weight, load it into the model and run it on some audio track.\n",
    "\n",
    "## Data\n",
    "\n",
    "1) If you have enough GPU and CPU we recommend to train model on librispeech-100 (100 hours).\n",
    "    If you poor student your choise is LJSpeech (24 housr) :)\n",
    "\n",
    "1.1) LJSpeech https://keithito.com/LJ-Speech-Dataset/. Note that audio file is a single-channel 16-bit PCM WAV with a sample rate of 22050 Hz. So, feel free to resample audio in 16000 Hz.\n",
    "    Target text is **Normalized Transcription** in **transcripts.csv**.\n",
    "\n",
    "1.2) LibriSpeech https://www.openslr.org/12. Download and use train-clean-100.tar.gz."
   ]
  },
  {
   "cell_type": "markdown",
   "metadata": {},
   "source": [
    "Числа: https://drive.google.com/file/d/1HKtLLbiEk0c3l1mKz9LUXRAmKd3DvD0P/view?usp=sharing"
   ]
  },
  {
   "cell_type": "markdown",
   "metadata": {},
   "source": [
    "CommonVoice Mozilla: https://commonvoice.mozilla.org/en/datasets\n",
    "Он весит 50 гигабайт. В нем значительно больше коротких записей, что должно ускорить сходимость методов на нем.\n",
    "Можно обучиться на нем всем или просто отщипнуть себе кусочек.\n",
    "\n",
    "Все еще настоятельно рекомендую препроцессить датасет и выкидывать все записи длиннее N-секунд (а если вы учите не CTC, то стоит еще дополнительно выкидывать все записи длиннее  K символов), чтобы максимизировать размер батча."
   ]
  },
  {
   "cell_type": "markdown",
   "metadata": {},
   "source": [
    "##### config"
   ]
  },
  {
   "cell_type": "markdown",
   "metadata": {},
   "source": [
    "https://github.com/NVIDIA/NeMo/blob/main/examples/asr/conf/quartznet_15x5.yaml"
   ]
  },
  {
   "cell_type": "markdown",
   "metadata": {},
   "source": [
    "### Начинаем решение"
   ]
  },
  {
   "cell_type": "code",
   "execution_count": 12,
   "metadata": {},
   "outputs": [
    {
     "name": "stdout",
     "output_type": "stream",
     "text": [
      "Populating the interactive namespace from numpy and matplotlib\n"
     ]
    }
   ],
   "source": [
    "import pandas as pd\n",
    "import string\n",
    "import re\n",
    "\n",
    "import librosa\n",
    "import torch\n",
    "import torchaudio\n",
    "import torch.nn as nn\n",
    "import torch.nn.functional as F\n",
    "\n",
    "from torch.nn.utils.rnn import pad_sequence\n",
    "from torch.utils.data import DataLoader\n",
    "from torch import distributions\n",
    "from tqdm import tqdm\n",
    "\n",
    "from collections import Counter\n",
    "from IPython import display as display_\n",
    "%pylab inline"
   ]
  },
  {
   "cell_type": "code",
   "execution_count": 13,
   "metadata": {},
   "outputs": [],
   "source": [
    "BATCH_SIZE = 40\n",
    "NUM_EPOCHS = 50"
   ]
  },
  {
   "cell_type": "code",
   "execution_count": 14,
   "metadata": {
    "scrolled": true
   },
   "outputs": [
    {
     "data": {
      "text/plain": [
       "device(type='cpu')"
      ]
     },
     "execution_count": 14,
     "metadata": {},
     "output_type": "execute_result"
    }
   ],
   "source": [
    "device = torch.device('cuda' if torch.cuda.is_available() else 'cpu')\n",
    "device"
   ]
  },
  {
   "cell_type": "markdown",
   "metadata": {},
   "source": [
    "### датасет лоадер"
   ]
  },
  {
   "cell_type": "code",
   "execution_count": 15,
   "metadata": {},
   "outputs": [],
   "source": [
    "class TrainDataset(torch.utils.data.Dataset):\n",
    "    \"\"\"Custom competition dataset.\"\"\"\n",
    "\n",
    "    def __init__(self, csv_file, transform=None):\n",
    "        \"\"\"\n",
    "        Args:\n",
    "            csv_file (string): Path to the csv file with annotations.\n",
    "            root_dir (string): Directory with all the images.\n",
    "            transform (callable, optional): Optional transform to be applied on a sample.\n",
    "        \"\"\"\n",
    "        self.answers = pd.read_csv(csv_file, '\\t')\n",
    "        self.transform = transform\n",
    "\n",
    "\n",
    "    def __len__(self):\n",
    "        return len(self.answers)\n",
    "\n",
    "\n",
    "    def __getitem__(self, idx):\n",
    "        if torch.is_tensor(idx):\n",
    "            idx = idx.tolist()\n",
    "\n",
    "        utt_name = 'cv-corpus-5.1-singleword/en/clips/' + self.answers.loc[idx, 'path']\n",
    "        utt = torchaudio.load(utt_name)[0].squeeze()\n",
    "        answer = self.answers.loc[idx, 'sentence']\n",
    "\n",
    "        if self.transform:\n",
    "            utt = self.transform(utt)\n",
    "\n",
    "        sample = {'utt': utt, 'answer': answer}\n",
    "        return sample"
   ]
  },
  {
   "cell_type": "code",
   "execution_count": 16,
   "metadata": {},
   "outputs": [],
   "source": [
    "class TestDataset(torch.utils.data.Dataset):\n",
    "    \"\"\"Custom competition dataset.\"\"\"\n",
    "\n",
    "    def __init__(self, csv_file, transform=None):\n",
    "        \"\"\"\n",
    "        Args:\n",
    "            csv_file (string): Path to the csv file with annotations.\n",
    "            root_dir (string): Directory with all the images.\n",
    "            transform (callable, optional): Optional transform to be applied on a sample.\n",
    "        \"\"\"\n",
    "        self.names = pd.read_csv(csv_file, '\\t')\n",
    "        self.transform = transform\n",
    "\n",
    "\n",
    "    def __len__(self):\n",
    "        return len(self.names)\n",
    "\n",
    "\n",
    "    def __getitem__(self, idx):\n",
    "        if torch.is_tensor(idx):\n",
    "            idx = idx.tolist()\n",
    "\n",
    "        utt_name = 'cv-corpus-5.1-singleword/en/clips/' + self.names.loc[idx, 'path']\n",
    "        utt = torchaudio.load(utt_name)[0].squeeze()\n",
    "\n",
    "        if self.transform:\n",
    "            utt = self.transform(utt)\n",
    "\n",
    "        sample = {'utt': utt}\n",
    "        return sample"
   ]
  },
  {
   "cell_type": "code",
   "execution_count": 17,
   "metadata": {},
   "outputs": [],
   "source": [
    "def transform_tr(wav):\n",
    "    aug_num = torch.randint(low=0, high=3, size=(1,)).item()\n",
    "    augs = [\n",
    "        lambda x: x,\n",
    "        lambda x: (x + distributions.Normal(0, 0.01).sample(x.size())).clamp_(-1, 1),\n",
    "        lambda x: torchaudio.transforms.Vol(.1)(x)\n",
    "    ]\n",
    "    \n",
    "    return augs[aug_num](wav)"
   ]
  },
  {
   "cell_type": "code",
   "execution_count": 18,
   "metadata": {
    "scrolled": false
   },
   "outputs": [],
   "source": [
    "def viz(wav):\n",
    "    figsize(20, 5)\n",
    "    plot(wav)\n",
    "    plt.show()\n",
    "\n",
    "    display_.display(display_.Audio(wav, rate=40000, normalize=False))"
   ]
  },
  {
   "cell_type": "code",
   "execution_count": 19,
   "metadata": {},
   "outputs": [],
   "source": [
    "class TextTransform:\n",
    "    def __init__(self):\n",
    "        self.char_dict = {}\n",
    "        self.index_dict = {}\n",
    "        \n",
    "        self.char_dict['\\''] = 0\n",
    "        self.index_dict[0] = '\\''\n",
    "        self.char_dict[' '] = 1\n",
    "        self.index_dict[1] = ' '\n",
    "        for i, let in enumerate(string.ascii_lowercase):\n",
    "            self.index_dict[i+2] = let\n",
    "            self.char_dict[let] = i+2\n",
    "            \n",
    "    def text_to_int(self, text):\n",
    "        labels = []\n",
    "        for let in text:\n",
    "            labels.append(self.char_dict[let])\n",
    "        return labels\n",
    "    \n",
    "    def int_to_text(self, labels):\n",
    "        text = []\n",
    "        for num in labels:\n",
    "            text.append(self.index_dict[num])\n",
    "        return text"
   ]
  },
  {
   "cell_type": "code",
   "execution_count": 20,
   "metadata": {},
   "outputs": [],
   "source": [
    "import math"
   ]
  },
  {
   "cell_type": "code",
   "execution_count": 21,
   "metadata": {},
   "outputs": [],
   "source": [
    "def preprocess_data(data):\n",
    "    text_transform = TextTransform()\n",
    "    wavs = []\n",
    "    input_lens = []\n",
    "    labels = []\n",
    "    label_lens = []\n",
    "    \n",
    "    for el in data:\n",
    "        wavs.append(el['utt'])\n",
    "        input_lens.append(math.ceil(mel_len(el['utt'].shape[0]) / 2))   ############# not yet\n",
    "        label = torch.Tensor(text_transform.text_to_int(re.sub(r'[^\\w\\s]','', el['answer'].lower()) ))\n",
    "        labels.append(label)\n",
    "        label_lens.append(len(label))\n",
    "        \n",
    "    wavs = pad_sequence(wavs, batch_first=True)\n",
    "    labels = pad_sequence(labels, batch_first=True)\n",
    "    \n",
    "    return wavs, input_lens, labels, label_lens    "
   ]
  },
  {
   "cell_type": "code",
   "execution_count": 22,
   "metadata": {},
   "outputs": [
    {
     "name": "stdout",
     "output_type": "stream",
     "text": [
      "all train+val samples: 12717\n"
     ]
    }
   ],
   "source": [
    "# Loading data and loaders\n",
    "my_dataset = TrainDataset(csv_file='cv-corpus-5.1-singleword/en/train.tsv', transform=transform_tr)\n",
    "print('all train+val samples:', len(my_dataset))\n",
    "test_dataset = TestDataset(csv_file='cv-corpus-5.1-singleword/en/test.tsv', transform=None)"
   ]
  },
  {
   "cell_type": "code",
   "execution_count": 23,
   "metadata": {
    "scrolled": true
   },
   "outputs": [],
   "source": [
    "#all_lens = []\n",
    "#for i, el in tqdm(enumerate(my_dataset)):\n",
    "#    all_lens.append(el['utt'].shape[0])\n",
    "#    if i == 12710:\n",
    "#        break"
   ]
  },
  {
   "cell_type": "code",
   "execution_count": 24,
   "metadata": {},
   "outputs": [],
   "source": [
    "#all_lens2 = np.array(all_lens)\n",
    "#np.percentile(all_lens2, 95)\n",
    "\n",
    "# 176256"
   ]
  },
  {
   "cell_type": "markdown",
   "metadata": {},
   "source": [
    "#####  176256"
   ]
  },
  {
   "cell_type": "code",
   "execution_count": 25,
   "metadata": {},
   "outputs": [
    {
     "name": "stderr",
     "output_type": "stream",
     "text": [
      "12710it [01:02, 204.02it/s]\n"
     ]
    }
   ],
   "source": [
    "to_save = []\n",
    "\n",
    "for i, el in tqdm(enumerate(my_dataset)):\n",
    "    if el['utt'].shape[0] <= 176256.0:\n",
    "        to_save.append(i)\n",
    "    if i == 12710:\n",
    "        break"
   ]
  },
  {
   "cell_type": "code",
   "execution_count": 26,
   "metadata": {},
   "outputs": [
    {
     "data": {
      "text/plain": [
       "12082"
      ]
     },
     "execution_count": 26,
     "metadata": {},
     "output_type": "execute_result"
    }
   ],
   "source": [
    "my_dataset = torch.utils.data.Subset(my_dataset, to_save)\n",
    "len(my_dataset)"
   ]
  },
  {
   "cell_type": "code",
   "execution_count": 27,
   "metadata": {},
   "outputs": [],
   "source": [
    "my_dataset, _ = torch.utils.data.random_split(my_dataset, [40, 12042])\n",
    "test_dataset = my_dataset\n",
    "train_set = my_dataset\n",
    "val_set = my_dataset"
   ]
  },
  {
   "cell_type": "code",
   "execution_count": 28,
   "metadata": {},
   "outputs": [],
   "source": [
    "my_loader = DataLoader(my_dataset, batch_size=BATCH_SIZE, shuffle=True, drop_last=True)\n",
    "#train_set, val_set = torch.utils.data.random_split(my_dataset, [40, 10])\n",
    "train_loader = DataLoader(train_set, batch_size=BATCH_SIZE,\n",
    "                          shuffle=True, collate_fn=preprocess_data, drop_last=True)\n",
    "                          #num_workers=2)#, #pin_memory=True)\n",
    "val_loader = DataLoader(val_set, batch_size=BATCH_SIZE,\n",
    "                        shuffle=True, collate_fn=preprocess_data, drop_last=True) \n",
    "                        #num_workers=2), #pin_memory=True)\n",
    "test_dataloader = DataLoader(test_dataset, batch_size=BATCH_SIZE, shuffle=False, drop_last=True)"
   ]
  },
  {
   "cell_type": "code",
   "execution_count": 29,
   "metadata": {},
   "outputs": [],
   "source": [
    "melspec = torchaudio.transforms.MelSpectrogram(\n",
    "    sample_rate=48000,            ### ? ?? ? ?? \n",
    "    n_fft=512,\n",
    "    n_mels=40                     ### debatable for 64\n",
    ").to(device)\n",
    "\n",
    "melspec_transforms = nn.Sequential(\n",
    "    torchaudio.transforms.MelSpectrogram(sample_rate=48000, n_fft=512, n_mels=40),\n",
    "    torchaudio.transforms.FrequencyMasking(freq_mask_param=15),\n",
    "    torchaudio.transforms.TimeMasking(time_mask_param=35),\n",
    ").to(device)"
   ]
  },
  {
   "cell_type": "code",
   "execution_count": 30,
   "metadata": {},
   "outputs": [],
   "source": [
    "#win_len=512, hop_len=256\n",
    "def mel_len(x):\n",
    "    return int((x - 512)/256) + 3"
   ]
  },
  {
   "cell_type": "markdown",
   "metadata": {},
   "source": [
    "#### experiments field"
   ]
  },
  {
   "cell_type": "code",
   "execution_count": 31,
   "metadata": {
    "scrolled": true
   },
   "outputs": [
    {
     "data": {
      "text/plain": [
       "'from tqdm import tqdm\\n\\nfor i, (wavs, wavs_len, answ, answ_len) in tqdm(enumerate(train_loader)):\\n    # all to GPU\\n\\n    #print(i)\\n    #print(wavs.shape)\\n    #print(wavs_len)\\n    transformed = torch.log(melspec_transforms(wavs) + 1e-9)\\n    ##################################################3print(transformed.device)\\n    #print(transformed.shape)\\n    if mel_len(wavs.shape[1]) != transformed.shape[2]:\\n        print(\"STAP THIS\", mel_len(wavs.shape[1]), transformed.shape[2])\\n        break\\n    #plt.figure()\\n    #plt.title(ex[0])\\n    #viz(ex[\\'utt\\'].squeeze_())\\n    #plt.show()\\n'"
      ]
     },
     "execution_count": 31,
     "metadata": {},
     "output_type": "execute_result"
    }
   ],
   "source": [
    "'''from tqdm import tqdm\n",
    "\n",
    "for i, (wavs, wavs_len, answ, answ_len) in tqdm(enumerate(train_loader)):\n",
    "    # all to GPU\n",
    "\n",
    "    #print(i)\n",
    "    #print(wavs.shape)\n",
    "    #print(wavs_len)\n",
    "    transformed = torch.log(melspec_transforms(wavs) + 1e-9)\n",
    "    ##################################################3print(transformed.device)\n",
    "    #print(transformed.shape)\n",
    "    if mel_len(wavs.shape[1]) != transformed.shape[2]:\n",
    "        print(\"STAP THIS\", mel_len(wavs.shape[1]), transformed.shape[2])\n",
    "        break\n",
    "    #plt.figure()\n",
    "    #plt.title(ex[0])\n",
    "    #viz(ex['utt'].squeeze_())\n",
    "    #plt.show()\n",
    "'''"
   ]
  },
  {
   "cell_type": "markdown",
   "metadata": {},
   "source": [
    "### Играю в свертки"
   ]
  },
  {
   "cell_type": "code",
   "execution_count": 32,
   "metadata": {},
   "outputs": [],
   "source": [
    "utt_name = 'cv-corpus-5.1-singleword/en/clips/common_voice_en_21878660.mp3'\n",
    "utt = torchaudio.load(utt_name)[0].squeeze()\n",
    "mel_spec = melspec(utt)"
   ]
  },
  {
   "cell_type": "code",
   "execution_count": 33,
   "metadata": {},
   "outputs": [
    {
     "data": {
      "text/plain": [
       "torch.Size([1, 40, 298])"
      ]
     },
     "execution_count": 33,
     "metadata": {},
     "output_type": "execute_result"
    }
   ],
   "source": [
    "mel_spec.unsqueeze_(0).shape"
   ]
  },
  {
   "cell_type": "code",
   "execution_count": 34,
   "metadata": {},
   "outputs": [
    {
     "name": "stdout",
     "output_type": "stream",
     "text": [
      "torch.Size([1, 250, 298])\n"
     ]
    },
    {
     "data": {
      "image/png": "[encoded data removed]",
      "text/plain": [
       "<Figure size 432x288 with 1 Axes>"
      ]
     },
     "metadata": {
      "needs_background": "light"
     },
     "output_type": "display_data"
    }
   ],
   "source": [
    "my_layer = torch.nn.Conv1d(40, 250, kernel_size=39, dilation=2, padding=38)\n",
    "\n",
    "res1 = my_layer(mel_spec)\n",
    "\n",
    "print(res1.shape)\n",
    "\n",
    "plt.figure()\n",
    "plt.imshow(torch.log(res1.squeeze().detach()))\n",
    "plt.show()"
   ]
  },
  {
   "cell_type": "code",
   "execution_count": 35,
   "metadata": {},
   "outputs": [
    {
     "data": {
      "text/plain": [
       "torch.Size([250, 40, 39])"
      ]
     },
     "execution_count": 35,
     "metadata": {},
     "output_type": "execute_result"
    }
   ],
   "source": [
    "my_layer.weight.shape"
   ]
  },
  {
   "cell_type": "markdown",
   "metadata": {},
   "source": [
    "#### separable:"
   ]
  },
  {
   "cell_type": "code",
   "execution_count": 36,
   "metadata": {},
   "outputs": [
    {
     "data": {
      "text/plain": [
       "torch.Size([1, 40, 298])"
      ]
     },
     "execution_count": 36,
     "metadata": {},
     "output_type": "execute_result"
    }
   ],
   "source": [
    "mel_spec = melspec(utt)\n",
    "mel_spec.unsqueeze_(0).shape"
   ]
  },
  {
   "cell_type": "code",
   "execution_count": 37,
   "metadata": {},
   "outputs": [
    {
     "name": "stdout",
     "output_type": "stream",
     "text": [
      "1 res shape torch.Size([1, 40, 298])\n",
      "2 res shape torch.Size([1, 240, 298])\n",
      "1 layer weights shape torch.Size([40, 1, 33])\n",
      "2 layer weights shape torch.Size([240, 40, 1])\n"
     ]
    },
    {
     "data": {
      "image/png": "[encoded data removed]",
      "text/plain": [
       "<Figure size 432x288 with 1 Axes>"
      ]
     },
     "metadata": {
      "needs_background": "light"
     },
     "output_type": "display_data"
    }
   ],
   "source": [
    "my_layer = torch.nn.Conv1d(40, 40, kernel_size=33, groups=40, dilation=2, padding=32) ### (k_s - 1) / 2\n",
    "res = my_layer(mel_spec)                                                              ### (k_s - 1) for dil=2\n",
    "\n",
    "print('1 res shape', res.shape) \n",
    "\n",
    "sec_layer = torch.nn.Conv1d(40, 240, kernel_size=1) # gr?\n",
    "res = sec_layer(res)\n",
    "\n",
    "print('2 res shape', res.shape) \n",
    "\n",
    "\n",
    "print('1 layer weights shape', my_layer.weight.shape)\n",
    "print('2 layer weights shape', sec_layer.weight.shape)\n",
    "\n",
    "\n",
    "plt.figure()\n",
    "plt.imshow(torch.log(res.squeeze().detach()))\n",
    "plt.show()"
   ]
  },
  {
   "cell_type": "code",
   "execution_count": 38,
   "metadata": {},
   "outputs": [
    {
     "data": {
      "text/plain": [
       "316800"
      ]
     },
     "execution_count": 38,
     "metadata": {},
     "output_type": "execute_result"
    }
   ],
   "source": [
    "240 * 40 * 33 "
   ]
  },
  {
   "cell_type": "code",
   "execution_count": 39,
   "metadata": {},
   "outputs": [],
   "source": [
    "# 240 * 33 + 240 * 240 = 65520 - неправильно!"
   ]
  },
  {
   "cell_type": "code",
   "execution_count": 40,
   "metadata": {},
   "outputs": [
    {
     "data": {
      "text/plain": [
       "10920"
      ]
     },
     "execution_count": 40,
     "metadata": {},
     "output_type": "execute_result"
    }
   ],
   "source": [
    "40 * 33 + 40 * 240"
   ]
  },
  {
   "cell_type": "markdown",
   "metadata": {},
   "source": [
    "### Модель"
   ]
  },
  {
   "cell_type": "code",
   "execution_count": 41,
   "metadata": {},
   "outputs": [],
   "source": [
    "import torch\n",
    "import torchvision\n",
    "import numpy as np\n",
    "import random\n",
    "\n",
    "import torch.nn as nn\n",
    "import torch.nn.functional as F"
   ]
  },
  {
   "cell_type": "code",
   "execution_count": 42,
   "metadata": {},
   "outputs": [],
   "source": [
    "def set_seed(seed):\n",
    "    torch.backends.cudnn.deterministic = True\n",
    "    torch.manual_seed(seed)\n",
    "    torch.cuda.manual_seed(seed)\n",
    "    random.seed(seed)\n",
    "    np.random.seed(seed)\n",
    "set_seed(21)"
   ]
  },
  {
   "cell_type": "code",
   "execution_count": 43,
   "metadata": {},
   "outputs": [],
   "source": [
    "def count_parameters(model):\n",
    "    model_parameters = filter(lambda p: p.requires_grad, model.parameters())\n",
    "    return sum([np.prod(p.size()) for p in model_parameters])"
   ]
  },
  {
   "cell_type": "code",
   "execution_count": 44,
   "metadata": {},
   "outputs": [],
   "source": [
    "def conv_bn_act(in_size, out_size, kernel_size, stride=1, dilation=1):\n",
    "    return nn.Sequential(\n",
    "        nn.Conv1d(in_size, out_size, kernel_size, stride, dilation=dilation),\n",
    "        nn.BatchNorm1d(out_size),\n",
    "        nn.ReLU()\n",
    "    )\n",
    "\n",
    "\n",
    "def sepconv_bn(in_size, out_size, kernel_size, stride=1, dilation=1, padding=None):\n",
    "    if padding is None:\n",
    "        padding = (kernel_size-1)//2\n",
    "    return nn.Sequential(\n",
    "        torch.nn.Conv1d(in_size, in_size, kernel_size, \n",
    "                        stride=stride, dilation=dilation, groups=in_size,\n",
    "                        padding=padding),\n",
    "        torch.nn.Conv1d(in_size, out_size, kernel_size=1),\n",
    "        nn.BatchNorm1d(out_size)\n",
    "    )"
   ]
  },
  {
   "cell_type": "code",
   "execution_count": 45,
   "metadata": {},
   "outputs": [],
   "source": [
    "class QnetBlock(nn.Module):\n",
    "    def __init__(self, in_size, out_size, kernel_size, stride=1,\n",
    "                R=5):\n",
    "        super().__init__()\n",
    "        \n",
    "        self.layers = nn.ModuleList(sepconv_bn(in_size, out_size, kernel_size, stride))\n",
    "        for i in range(R - 1):\n",
    "            self.layers.append(nn.ReLU())\n",
    "            self.layers.append(sepconv_bn(out_size, out_size, kernel_size, stride))\n",
    "        self.layers = nn.Sequential(*self.layers)\n",
    "        \n",
    "        self.residual = nn.ModuleList()\n",
    "        self.residual.append(torch.nn.Conv1d(in_size, out_size, kernel_size=1))         # requires checking\n",
    "        self.residual.append(torch.nn.BatchNorm1d(out_size))\n",
    "        self.residual = nn.Sequential(*self.residual)\n",
    "    \n",
    "    def forward(self, x):\n",
    "        return F.relu(self.residual(x) + self.layers(x))"
   ]
  },
  {
   "cell_type": "code",
   "execution_count": 46,
   "metadata": {
    "scrolled": true
   },
   "outputs": [],
   "source": [
    "class QuartzNet(nn.Module):\n",
    "    def __init__(self, num_classes):\n",
    "        super().__init__()\n",
    "                    \n",
    "                  #conv_bn_act(40, 256, kernel_size=33, stride=2)\n",
    "        self.c1 = sepconv_bn(40, 256, kernel_size=33, stride=2)\n",
    "                  \n",
    "        \n",
    "        self.blocks = nn.Sequential(\n",
    "                #         in   out  k   s  R\n",
    "                QnetBlock(256, 256, 33, 1, R=5),\n",
    "                QnetBlock(256, 256, 39, 1, R=5),\n",
    "                QnetBlock(256, 512, 51, 1, R=5),\n",
    "                QnetBlock(512, 512, 63, 1, R=5),\n",
    "                QnetBlock(512, 512, 75, 1, R=5)\n",
    "        )\n",
    "                  #conv_bn_act(512, 512, kernel_size=87, dilation=2)\n",
    "        self.c2 = sepconv_bn(512, 512, kernel_size=87, dilation=2, padding=86)\n",
    "        \n",
    "        self.c3 = conv_bn_act(512, 1024, kernel_size=1)\n",
    "        \n",
    "        self.c4 = conv_bn_act(1024, num_classes, kernel_size=1)\n",
    "        \n",
    "        self.init_weights()\n",
    "        \n",
    "    def init_weights(self):\n",
    "        pass\n",
    "        \n",
    "        \n",
    "    def forward(self, x):\n",
    "        c1 = F.relu(self.c1(x))\n",
    "        blocks = self.blocks(c1)\n",
    "        c2 = F.relu(self.c2(blocks))\n",
    "        c3 = self.c3(c2)\n",
    "        return self.c4(c3)"
   ]
  },
  {
   "cell_type": "code",
   "execution_count": 47,
   "metadata": {},
   "outputs": [],
   "source": [
    "### c1 & c2 are separable!"
   ]
  },
  {
   "cell_type": "code",
   "execution_count": 48,
   "metadata": {},
   "outputs": [],
   "source": [
    "def train_epoch(model, optimizer, dataloader, CTCLoss, device):\n",
    "    model.train()\n",
    "    \n",
    "    losses = []\n",
    "    \n",
    "    for i, (wavs, wavs_len, answ, answ_len) in tqdm(enumerate(dataloader)):\n",
    "        wavs, answ = wavs.to(device), answ.to(device)\n",
    "        \n",
    "        trans_wavs = torch.log(melspec_transforms(wavs) + 1e-9).to(device)     # SLOW???\n",
    "        \n",
    "        optimizer.zero_grad()\n",
    "            \n",
    "        #print('before model', trans_wavs.shape)\n",
    "        output = model(trans_wavs)\n",
    "        #print('after model', output.shape)\n",
    "        output = F.log_softmax(output, dim=1)                                   ### 2?\n",
    "        #print('after logsoftmax', output.shape)\n",
    "        output = output.transpose(0, 1).transpose(0, 2)\n",
    "        #print('after transpose', output.shape)\n",
    "        \n",
    "        \n",
    "        loss = CTCLoss(output, answ, wavs_len, answ_len)\n",
    "        loss.backward()        \n",
    "        \n",
    "        torch.nn.utils.clip_grad_norm_(model.parameters(), 15)\n",
    "        optimizer.step()\n",
    "        losses.append(loss.item())\n",
    "        \n",
    "    return np.mean(losses)\n",
    "        \n",
    "\n",
    "        #print(i)\n",
    "        #print(wavs.shape)\n",
    "        #print(wavs_len)\n",
    "        ##################################################3print(transformed.device)\n",
    "        #print(transformed.shape)\n",
    "        #if mel_len(wavs.shape[1]) != transformed.shape[2]:\n",
    "        #    print(\"STAP THIS\", mel_len(wavs.shape[1]), transformed.shape[2])\n",
    "        #    break\n",
    "        #plt.figure()\n",
    "        #plt.title(ex[0])\n",
    "        #viz(ex['utt'].squeeze_())\n",
    "        #plt.show()\n"
   ]
  },
  {
   "cell_type": "code",
   "execution_count": 49,
   "metadata": {},
   "outputs": [],
   "source": [
    "def train(model, opt, train_dl, scheduler, CTCLoss, device, n_epochs, val_dl=None):\n",
    "    \n",
    "    \n",
    "    \n",
    "    for epoch in range(n_epochs):\n",
    "        print(\"Epoch {} of {}\".format(epoch, n_epochs), 'LR', scheduler.get_last_lr())\n",
    "        \n",
    "        mean_loss = train_epoch(model, opt, train_dl, CTCLoss, device)\n",
    "        print('MEAN EPOCH LOSS IS', mean_loss)\n",
    "        \n",
    "        scheduler.step()\n",
    "        \n",
    "        if (val_dl != None):\n",
    "            test(model, opt, val_dl, CTCLoss, device) "
   ]
  },
  {
   "cell_type": "code",
   "execution_count": 50,
   "metadata": {},
   "outputs": [],
   "source": [
    "def decoder_func(output, answ, answ_lens, blank_label=0, del_repeated=True):\n",
    "    # output : [B, freq, porbab(28?)]\n",
    "    # answ   : []\n",
    "    \n",
    "    decoded_preds = []\n",
    "    decoded_targs  = []\n",
    "    \n",
    "    text_transform = TextTransform()\n",
    "\n",
    "    # batch_freqs : [B, freq]\n",
    "    batch_freqs = torch.argmax(output, dim=2).transpose(0, 1)\n",
    "    \n",
    "    for i, freqs in enumerate(batch_freqs):\n",
    "        # freqs : [freq]\n",
    "        \n",
    "        preds = []\n",
    "        \n",
    "        decoded_targs.append(\n",
    "            text_transform.int_to_text(answ[i][:answ_lens[i]].tolist())   ####  не может быть другая длина?  \n",
    "        )\n",
    "        \n",
    "        for j, num in enumerate(freqs):\n",
    "            if num != blank_label:\n",
    "                if del_repeated and j != 0 and num == freqs[j-1]:\n",
    "                    continue\n",
    "                preds.append(num.item())\n",
    "        decoded_preds.append(text_transform.int_to_text(preds))\n",
    "    \n",
    "    return decoded_preds, decoded_targs    "
   ]
  },
  {
   "cell_type": "code",
   "execution_count": 51,
   "metadata": {},
   "outputs": [],
   "source": [
    "def cer(target, pred):\n",
    "    print('target', ''.join(target))\n",
    "    print('prediction', ''.join(pred))\n",
    "    return 1\n",
    "def wer(target, pred):\n",
    "    return 0"
   ]
  },
  {
   "cell_type": "code",
   "execution_count": 52,
   "metadata": {},
   "outputs": [],
   "source": [
    "def test(model, optimizer, dataloader, CTCLoss, device):\n",
    "    model.eval()\n",
    "    \n",
    "    cers, wers = [], []\n",
    "    losses = []\n",
    "    \n",
    "    with torch.no_grad():\n",
    "        for i, (wavs, wavs_len, answ, answ_len) in enumerate(dataloader):\n",
    "            wavs, answ = wavs.to(device), answ.to(device)\n",
    "\n",
    "            trans_wavs = torch.log(melspec(wavs) + 1e-9).to(device)     # SLOW???\n",
    "\n",
    "            output = model(trans_wavs)\n",
    "            output = F.log_softmax(output, dim=1)                        #?  2 ??\n",
    "            output = output.transpose(0, 1).transpose(0, 2)\n",
    "            \n",
    "            loss = CTCLoss(output, answ, wavs_len, answ_len)\n",
    "            losses.append(loss.item())\n",
    "            \n",
    "            # argmax / beam_search\n",
    "            preds, targets = decoder_func(output, answ, answ_len)\n",
    "            for i in range(len(preds)):\n",
    "                if i == 0:\n",
    "                    cers.append(cer(targets[i], preds[i]))\n",
    "                wers.append(wer(targets[i], preds[i]))\n",
    "                \n",
    "        avg_cer = np.mean(cers)\n",
    "        avg_wer = np.mean(wers)\n",
    "        avg_loss= np.mean(losses)\n",
    "        print('average test loss is', avg_loss)"
   ]
  },
  {
   "cell_type": "code",
   "execution_count": 53,
   "metadata": {},
   "outputs": [
    {
     "name": "stdout",
     "output_type": "stream",
     "text": [
      "6729892\n"
     ]
    },
    {
     "data": {
      "text/plain": [
       "QuartzNet(\n",
       "  (c1): Sequential(\n",
       "    (0): Conv1d(40, 40, kernel_size=(33,), stride=(2,), padding=(16,), groups=40)\n",
       "    (1): Conv1d(40, 256, kernel_size=(1,), stride=(1,))\n",
       "    (2): BatchNorm1d(256, eps=1e-05, momentum=0.1, affine=True, track_running_stats=True)\n",
       "  )\n",
       "  (blocks): Sequential(\n",
       "    (0): QnetBlock(\n",
       "      (layers): Sequential(\n",
       "        (0): Conv1d(256, 256, kernel_size=(33,), stride=(1,), padding=(16,), groups=256)\n",
       "        (1): Conv1d(256, 256, kernel_size=(1,), stride=(1,))\n",
       "        (2): BatchNorm1d(256, eps=1e-05, momentum=0.1, affine=True, track_running_stats=True)\n",
       "        (3): ReLU()\n",
       "        (4): Sequential(\n",
       "          (0): Conv1d(256, 256, kernel_size=(33,), stride=(1,), padding=(16,), groups=256)\n",
       "          (1): Conv1d(256, 256, kernel_size=(1,), stride=(1,))\n",
       "          (2): BatchNorm1d(256, eps=1e-05, momentum=0.1, affine=True, track_running_stats=True)\n",
       "        )\n",
       "        (5): ReLU()\n",
       "        (6): Sequential(\n",
       "          (0): Conv1d(256, 256, kernel_size=(33,), stride=(1,), padding=(16,), groups=256)\n",
       "          (1): Conv1d(256, 256, kernel_size=(1,), stride=(1,))\n",
       "          (2): BatchNorm1d(256, eps=1e-05, momentum=0.1, affine=True, track_running_stats=True)\n",
       "        )\n",
       "        (7): ReLU()\n",
       "        (8): Sequential(\n",
       "          (0): Conv1d(256, 256, kernel_size=(33,), stride=(1,), padding=(16,), groups=256)\n",
       "          (1): Conv1d(256, 256, kernel_size=(1,), stride=(1,))\n",
       "          (2): BatchNorm1d(256, eps=1e-05, momentum=0.1, affine=True, track_running_stats=True)\n",
       "        )\n",
       "        (9): ReLU()\n",
       "        (10): Sequential(\n",
       "          (0): Conv1d(256, 256, kernel_size=(33,), stride=(1,), padding=(16,), groups=256)\n",
       "          (1): Conv1d(256, 256, kernel_size=(1,), stride=(1,))\n",
       "          (2): BatchNorm1d(256, eps=1e-05, momentum=0.1, affine=True, track_running_stats=True)\n",
       "        )\n",
       "      )\n",
       "      (residual): Sequential(\n",
       "        (0): Conv1d(256, 256, kernel_size=(1,), stride=(1,))\n",
       "        (1): BatchNorm1d(256, eps=1e-05, momentum=0.1, affine=True, track_running_stats=True)\n",
       "      )\n",
       "    )\n",
       "    (1): QnetBlock(\n",
       "      (layers): Sequential(\n",
       "        (0): Conv1d(256, 256, kernel_size=(39,), stride=(1,), padding=(19,), groups=256)\n",
       "        (1): Conv1d(256, 256, kernel_size=(1,), stride=(1,))\n",
       "        (2): BatchNorm1d(256, eps=1e-05, momentum=0.1, affine=True, track_running_stats=True)\n",
       "        (3): ReLU()\n",
       "        (4): Sequential(\n",
       "          (0): Conv1d(256, 256, kernel_size=(39,), stride=(1,), padding=(19,), groups=256)\n",
       "          (1): Conv1d(256, 256, kernel_size=(1,), stride=(1,))\n",
       "          (2): BatchNorm1d(256, eps=1e-05, momentum=0.1, affine=True, track_running_stats=True)\n",
       "        )\n",
       "        (5): ReLU()\n",
       "        (6): Sequential(\n",
       "          (0): Conv1d(256, 256, kernel_size=(39,), stride=(1,), padding=(19,), groups=256)\n",
       "          (1): Conv1d(256, 256, kernel_size=(1,), stride=(1,))\n",
       "          (2): BatchNorm1d(256, eps=1e-05, momentum=0.1, affine=True, track_running_stats=True)\n",
       "        )\n",
       "        (7): ReLU()\n",
       "        (8): Sequential(\n",
       "          (0): Conv1d(256, 256, kernel_size=(39,), stride=(1,), padding=(19,), groups=256)\n",
       "          (1): Conv1d(256, 256, kernel_size=(1,), stride=(1,))\n",
       "          (2): BatchNorm1d(256, eps=1e-05, momentum=0.1, affine=True, track_running_stats=True)\n",
       "        )\n",
       "        (9): ReLU()\n",
       "        (10): Sequential(\n",
       "          (0): Conv1d(256, 256, kernel_size=(39,), stride=(1,), padding=(19,), groups=256)\n",
       "          (1): Conv1d(256, 256, kernel_size=(1,), stride=(1,))\n",
       "          (2): BatchNorm1d(256, eps=1e-05, momentum=0.1, affine=True, track_running_stats=True)\n",
       "        )\n",
       "      )\n",
       "      (residual): Sequential(\n",
       "        (0): Conv1d(256, 256, kernel_size=(1,), stride=(1,))\n",
       "        (1): BatchNorm1d(256, eps=1e-05, momentum=0.1, affine=True, track_running_stats=True)\n",
       "      )\n",
       "    )\n",
       "    (2): QnetBlock(\n",
       "      (layers): Sequential(\n",
       "        (0): Conv1d(256, 256, kernel_size=(51,), stride=(1,), padding=(25,), groups=256)\n",
       "        (1): Conv1d(256, 512, kernel_size=(1,), stride=(1,))\n",
       "        (2): BatchNorm1d(512, eps=1e-05, momentum=0.1, affine=True, track_running_stats=True)\n",
       "        (3): ReLU()\n",
       "        (4): Sequential(\n",
       "          (0): Conv1d(512, 512, kernel_size=(51,), stride=(1,), padding=(25,), groups=512)\n",
       "          (1): Conv1d(512, 512, kernel_size=(1,), stride=(1,))\n",
       "          (2): BatchNorm1d(512, eps=1e-05, momentum=0.1, affine=True, track_running_stats=True)\n",
       "        )\n",
       "        (5): ReLU()\n",
       "        (6): Sequential(\n",
       "          (0): Conv1d(512, 512, kernel_size=(51,), stride=(1,), padding=(25,), groups=512)\n",
       "          (1): Conv1d(512, 512, kernel_size=(1,), stride=(1,))\n",
       "          (2): BatchNorm1d(512, eps=1e-05, momentum=0.1, affine=True, track_running_stats=True)\n",
       "        )\n",
       "        (7): ReLU()\n",
       "        (8): Sequential(\n",
       "          (0): Conv1d(512, 512, kernel_size=(51,), stride=(1,), padding=(25,), groups=512)\n",
       "          (1): Conv1d(512, 512, kernel_size=(1,), stride=(1,))\n",
       "          (2): BatchNorm1d(512, eps=1e-05, momentum=0.1, affine=True, track_running_stats=True)\n",
       "        )\n",
       "        (9): ReLU()\n",
       "        (10): Sequential(\n",
       "          (0): Conv1d(512, 512, kernel_size=(51,), stride=(1,), padding=(25,), groups=512)\n",
       "          (1): Conv1d(512, 512, kernel_size=(1,), stride=(1,))\n",
       "          (2): BatchNorm1d(512, eps=1e-05, momentum=0.1, affine=True, track_running_stats=True)\n",
       "        )\n",
       "      )\n",
       "      (residual): Sequential(\n",
       "        (0): Conv1d(256, 512, kernel_size=(1,), stride=(1,))\n",
       "        (1): BatchNorm1d(512, eps=1e-05, momentum=0.1, affine=True, track_running_stats=True)\n",
       "      )\n",
       "    )\n",
       "    (3): QnetBlock(\n",
       "      (layers): Sequential(\n",
       "        (0): Conv1d(512, 512, kernel_size=(63,), stride=(1,), padding=(31,), groups=512)\n",
       "        (1): Conv1d(512, 512, kernel_size=(1,), stride=(1,))\n",
       "        (2): BatchNorm1d(512, eps=1e-05, momentum=0.1, affine=True, track_running_stats=True)\n",
       "        (3): ReLU()\n",
       "        (4): Sequential(\n",
       "          (0): Conv1d(512, 512, kernel_size=(63,), stride=(1,), padding=(31,), groups=512)\n",
       "          (1): Conv1d(512, 512, kernel_size=(1,), stride=(1,))\n",
       "          (2): BatchNorm1d(512, eps=1e-05, momentum=0.1, affine=True, track_running_stats=True)\n",
       "        )\n",
       "        (5): ReLU()\n",
       "        (6): Sequential(\n",
       "          (0): Conv1d(512, 512, kernel_size=(63,), stride=(1,), padding=(31,), groups=512)\n",
       "          (1): Conv1d(512, 512, kernel_size=(1,), stride=(1,))\n",
       "          (2): BatchNorm1d(512, eps=1e-05, momentum=0.1, affine=True, track_running_stats=True)\n",
       "        )\n",
       "        (7): ReLU()\n",
       "        (8): Sequential(\n",
       "          (0): Conv1d(512, 512, kernel_size=(63,), stride=(1,), padding=(31,), groups=512)\n",
       "          (1): Conv1d(512, 512, kernel_size=(1,), stride=(1,))\n",
       "          (2): BatchNorm1d(512, eps=1e-05, momentum=0.1, affine=True, track_running_stats=True)\n",
       "        )\n",
       "        (9): ReLU()\n",
       "        (10): Sequential(\n",
       "          (0): Conv1d(512, 512, kernel_size=(63,), stride=(1,), padding=(31,), groups=512)\n",
       "          (1): Conv1d(512, 512, kernel_size=(1,), stride=(1,))\n",
       "          (2): BatchNorm1d(512, eps=1e-05, momentum=0.1, affine=True, track_running_stats=True)\n",
       "        )\n",
       "      )\n",
       "      (residual): Sequential(\n",
       "        (0): Conv1d(512, 512, kernel_size=(1,), stride=(1,))\n",
       "        (1): BatchNorm1d(512, eps=1e-05, momentum=0.1, affine=True, track_running_stats=True)\n",
       "      )\n",
       "    )\n",
       "    (4): QnetBlock(\n",
       "      (layers): Sequential(\n",
       "        (0): Conv1d(512, 512, kernel_size=(75,), stride=(1,), padding=(37,), groups=512)\n",
       "        (1): Conv1d(512, 512, kernel_size=(1,), stride=(1,))\n",
       "        (2): BatchNorm1d(512, eps=1e-05, momentum=0.1, affine=True, track_running_stats=True)\n",
       "        (3): ReLU()\n",
       "        (4): Sequential(\n",
       "          (0): Conv1d(512, 512, kernel_size=(75,), stride=(1,), padding=(37,), groups=512)\n",
       "          (1): Conv1d(512, 512, kernel_size=(1,), stride=(1,))\n",
       "          (2): BatchNorm1d(512, eps=1e-05, momentum=0.1, affine=True, track_running_stats=True)\n",
       "        )\n",
       "        (5): ReLU()\n",
       "        (6): Sequential(\n",
       "          (0): Conv1d(512, 512, kernel_size=(75,), stride=(1,), padding=(37,), groups=512)\n",
       "          (1): Conv1d(512, 512, kernel_size=(1,), stride=(1,))\n",
       "          (2): BatchNorm1d(512, eps=1e-05, momentum=0.1, affine=True, track_running_stats=True)\n",
       "        )\n",
       "        (7): ReLU()\n",
       "        (8): Sequential(\n",
       "          (0): Conv1d(512, 512, kernel_size=(75,), stride=(1,), padding=(37,), groups=512)\n",
       "          (1): Conv1d(512, 512, kernel_size=(1,), stride=(1,))\n",
       "          (2): BatchNorm1d(512, eps=1e-05, momentum=0.1, affine=True, track_running_stats=True)\n",
       "        )\n",
       "        (9): ReLU()\n",
       "        (10): Sequential(\n",
       "          (0): Conv1d(512, 512, kernel_size=(75,), stride=(1,), padding=(37,), groups=512)\n",
       "          (1): Conv1d(512, 512, kernel_size=(1,), stride=(1,))\n",
       "          (2): BatchNorm1d(512, eps=1e-05, momentum=0.1, affine=True, track_running_stats=True)\n",
       "        )\n",
       "      )\n",
       "      (residual): Sequential(\n",
       "        (0): Conv1d(512, 512, kernel_size=(1,), stride=(1,))\n",
       "        (1): BatchNorm1d(512, eps=1e-05, momentum=0.1, affine=True, track_running_stats=True)\n",
       "      )\n",
       "    )\n",
       "  )\n",
       "  (c2): Sequential(\n",
       "    (0): Conv1d(512, 512, kernel_size=(87,), stride=(1,), padding=(86,), dilation=(2,), groups=512)\n",
       "    (1): Conv1d(512, 512, kernel_size=(1,), stride=(1,))\n",
       "    (2): BatchNorm1d(512, eps=1e-05, momentum=0.1, affine=True, track_running_stats=True)\n",
       "  )\n",
       "  (c3): Sequential(\n",
       "    (0): Conv1d(512, 1024, kernel_size=(1,), stride=(1,))\n",
       "    (1): BatchNorm1d(1024, eps=1e-05, momentum=0.1, affine=True, track_running_stats=True)\n",
       "    (2): ReLU()\n",
       "  )\n",
       "  (c4): Sequential(\n",
       "    (0): Conv1d(1024, 28, kernel_size=(1,), stride=(1,))\n",
       "    (1): BatchNorm1d(28, eps=1e-05, momentum=0.1, affine=True, track_running_stats=True)\n",
       "    (2): ReLU()\n",
       "  )\n",
       ")"
      ]
     },
     "execution_count": 53,
     "metadata": {},
     "output_type": "execute_result"
    }
   ],
   "source": [
    "model = QuartzNet(28)\n",
    "print(count_parameters(model))\n",
    "model.to(device)"
   ]
  },
  {
   "cell_type": "code",
   "execution_count": 54,
   "metadata": {},
   "outputs": [],
   "source": [
    "import torch_optimizer\n",
    "from torch.optim.lr_scheduler import CosineAnnealingLR\n",
    "from torch.optim.lr_scheduler import StepLR\n",
    "\n",
    "#opt = torch_optimizer.NovoGrad(\n",
    "#                        model.parameters(),\n",
    "#                        lr=0.01,\n",
    "#                        betas=(0.8, 0.5),\n",
    "#                        weight_decay=0.001,\n",
    "#) # this for bs 32 per GPU\n",
    "\n",
    "opt = torch.optim.RMSprop(model.parameters(), weight_decay=0.0001)\n",
    "\n",
    "scheduler = StepLR(opt, step_size=2, gamma=0.97) \n",
    "            #CosineAnnealingLR(opt, T_max=50, eta_min=0, last_epoch=-1) # ###### TMAX = MAX NUM OF EPOCHS"
   ]
  },
  {
   "cell_type": "code",
   "execution_count": 55,
   "metadata": {},
   "outputs": [],
   "source": [
    "CTCLoss = nn.CTCLoss(blank=0).to(device)"
   ]
  },
  {
   "cell_type": "code",
   "execution_count": 56,
   "metadata": {
    "scrolled": true
   },
   "outputs": [
    {
     "name": "stderr",
     "output_type": "stream",
     "text": [
      "\r",
      "0it [00:00, ?it/s]"
     ]
    },
    {
     "name": "stdout",
     "output_type": "stream",
     "text": [
      "Epoch 0 of 50 LR [0.01]\n"
     ]
    },
    {
     "name": "stderr",
     "output_type": "stream",
     "text": [
      "1it [00:21, 21.23s/it]\n"
     ]
    },
    {
     "name": "stdout",
     "output_type": "stream",
     "text": [
      "MEAN EPOCH LOSS IS 214.68917846679688\n"
     ]
    },
    {
     "name": "stderr",
     "output_type": "stream",
     "text": [
      "\r",
      "0it [00:00, ?it/s]"
     ]
    },
    {
     "name": "stdout",
     "output_type": "stream",
     "text": [
      "target yes\n",
      "prediction e\n",
      "average test loss is 3.585652979358862e+25\n",
      "Epoch 1 of 50 LR [0.01]\n"
     ]
    },
    {
     "name": "stderr",
     "output_type": "stream",
     "text": [
      "1it [00:19, 19.48s/it]\n"
     ]
    },
    {
     "name": "stdout",
     "output_type": "stream",
     "text": [
      "MEAN EPOCH LOSS IS 179.4527130126953\n"
     ]
    },
    {
     "name": "stderr",
     "output_type": "stream",
     "text": [
      "\r",
      "0it [00:00, ?it/s]"
     ]
    },
    {
     "name": "stdout",
     "output_type": "stream",
     "text": [
      "target firefox\n",
      "prediction n\n",
      "average test loss is 1.9287115014777908e+26\n",
      "Epoch 2 of 50 LR [0.0097]\n"
     ]
    },
    {
     "name": "stderr",
     "output_type": "stream",
     "text": [
      "1it [00:18, 18.40s/it]\n"
     ]
    },
    {
     "name": "stdout",
     "output_type": "stream",
     "text": [
      "MEAN EPOCH LOSS IS 158.5238037109375\n"
     ]
    },
    {
     "name": "stderr",
     "output_type": "stream",
     "text": [
      "\r",
      "0it [00:00, ?it/s]"
     ]
    },
    {
     "name": "stdout",
     "output_type": "stream",
     "text": [
      "target five\n",
      "prediction ne\n",
      "average test loss is 3.37668875248352e+23\n",
      "Epoch 3 of 50 LR [0.0097]\n"
     ]
    },
    {
     "name": "stderr",
     "output_type": "stream",
     "text": [
      "1it [00:19, 19.47s/it]\n"
     ]
    },
    {
     "name": "stdout",
     "output_type": "stream",
     "text": [
      "MEAN EPOCH LOSS IS 154.51502990722656\n"
     ]
    },
    {
     "name": "stderr",
     "output_type": "stream",
     "text": [
      "\r",
      "0it [00:00, ?it/s]"
     ]
    },
    {
     "name": "stdout",
     "output_type": "stream",
     "text": [
      "target firefox\n",
      "prediction t\n",
      "average test loss is 1.9310408381449646e+23\n",
      "Epoch 4 of 50 LR [0.009409]\n"
     ]
    },
    {
     "name": "stderr",
     "output_type": "stream",
     "text": [
      "1it [00:18, 18.34s/it]\n"
     ]
    },
    {
     "name": "stdout",
     "output_type": "stream",
     "text": [
      "MEAN EPOCH LOSS IS 137.13116455078125\n"
     ]
    },
    {
     "name": "stderr",
     "output_type": "stream",
     "text": [
      "\r",
      "0it [00:00, ?it/s]"
     ]
    },
    {
     "name": "stdout",
     "output_type": "stream",
     "text": [
      "target firefox\n",
      "prediction t\n",
      "average test loss is 9.46336903691921e+18\n",
      "Epoch 5 of 50 LR [0.009409]\n"
     ]
    },
    {
     "name": "stderr",
     "output_type": "stream",
     "text": [
      "1it [00:19, 19.08s/it]\n"
     ]
    },
    {
     "name": "stdout",
     "output_type": "stream",
     "text": [
      "MEAN EPOCH LOSS IS 123.57713317871094\n"
     ]
    },
    {
     "name": "stderr",
     "output_type": "stream",
     "text": [
      "\r",
      "0it [00:00, ?it/s]"
     ]
    },
    {
     "name": "stdout",
     "output_type": "stream",
     "text": [
      "target eight\n",
      "prediction e\n",
      "average test loss is 6310826344448.0\n",
      "Epoch 6 of 50 LR [0.00912673]\n"
     ]
    },
    {
     "name": "stderr",
     "output_type": "stream",
     "text": [
      "1it [00:18, 18.27s/it]\n"
     ]
    },
    {
     "name": "stdout",
     "output_type": "stream",
     "text": [
      "MEAN EPOCH LOSS IS 119.62498474121094\n"
     ]
    },
    {
     "name": "stderr",
     "output_type": "stream",
     "text": [
      "\r",
      "0it [00:00, ?it/s]"
     ]
    },
    {
     "name": "stdout",
     "output_type": "stream",
     "text": [
      "target zero\n",
      "prediction t\n",
      "average test loss is 26104336384.0\n",
      "Epoch 7 of 50 LR [0.00912673]\n"
     ]
    },
    {
     "name": "stderr",
     "output_type": "stream",
     "text": [
      "1it [00:19, 19.24s/it]\n"
     ]
    },
    {
     "name": "stdout",
     "output_type": "stream",
     "text": [
      "MEAN EPOCH LOSS IS 110.08968353271484\n"
     ]
    },
    {
     "name": "stderr",
     "output_type": "stream",
     "text": [
      "\r",
      "0it [00:00, ?it/s]"
     ]
    },
    {
     "name": "stdout",
     "output_type": "stream",
     "text": [
      "target yes\n",
      "prediction n\n",
      "average test loss is 10082159.0\n",
      "Epoch 8 of 50 LR [0.008852928099999999]\n"
     ]
    },
    {
     "name": "stderr",
     "output_type": "stream",
     "text": [
      "1it [00:23, 23.57s/it]\n"
     ]
    },
    {
     "name": "stdout",
     "output_type": "stream",
     "text": [
      "MEAN EPOCH LOSS IS 103.7276382446289\n"
     ]
    },
    {
     "name": "stderr",
     "output_type": "stream",
     "text": [
      "\r",
      "0it [00:00, ?it/s]"
     ]
    },
    {
     "name": "stdout",
     "output_type": "stream",
     "text": [
      "target nine\n",
      "prediction t\n",
      "average test loss is 16298797.0\n",
      "Epoch 9 of 50 LR [0.008852928099999999]\n"
     ]
    },
    {
     "name": "stderr",
     "output_type": "stream",
     "text": [
      "1it [00:20, 20.81s/it]\n"
     ]
    },
    {
     "name": "stdout",
     "output_type": "stream",
     "text": [
      "MEAN EPOCH LOSS IS 100.94007110595703\n"
     ]
    },
    {
     "name": "stderr",
     "output_type": "stream",
     "text": [
      "\r",
      "0it [00:00, ?it/s]"
     ]
    },
    {
     "name": "stdout",
     "output_type": "stream",
     "text": [
      "target nine\n",
      "prediction etn\n",
      "average test loss is 23760250.0\n",
      "Epoch 10 of 50 LR [0.008587340256999998]\n"
     ]
    },
    {
     "name": "stderr",
     "output_type": "stream",
     "text": [
      "1it [00:19, 19.91s/it]\n"
     ]
    },
    {
     "name": "stdout",
     "output_type": "stream",
     "text": [
      "MEAN EPOCH LOSS IS 93.58104705810547\n"
     ]
    },
    {
     "name": "stderr",
     "output_type": "stream",
     "text": [
      "\r",
      "0it [00:00, ?it/s]"
     ]
    },
    {
     "name": "stdout",
     "output_type": "stream",
     "text": [
      "target nine\n",
      "prediction etn\n",
      "average test loss is 4221078.0\n",
      "Epoch 11 of 50 LR [0.008587340256999998]\n"
     ]
    },
    {
     "name": "stderr",
     "output_type": "stream",
     "text": [
      "1it [00:23, 23.11s/it]\n"
     ]
    },
    {
     "name": "stdout",
     "output_type": "stream",
     "text": [
      "MEAN EPOCH LOSS IS 86.97740173339844\n"
     ]
    },
    {
     "name": "stderr",
     "output_type": "stream",
     "text": [
      "\r",
      "0it [00:00, ?it/s]"
     ]
    },
    {
     "name": "stdout",
     "output_type": "stream",
     "text": [
      "target five\n",
      "prediction tn\n",
      "average test loss is 452394.9375\n",
      "Epoch 12 of 50 LR [0.008329720049289998]\n"
     ]
    },
    {
     "name": "stderr",
     "output_type": "stream",
     "text": [
      "1it [00:23, 23.12s/it]\n"
     ]
    },
    {
     "name": "stdout",
     "output_type": "stream",
     "text": [
      "MEAN EPOCH LOSS IS 87.06982421875\n"
     ]
    },
    {
     "name": "stderr",
     "output_type": "stream",
     "text": [
      "\r",
      "0it [00:00, ?it/s]"
     ]
    },
    {
     "name": "stdout",
     "output_type": "stream",
     "text": [
      "target eight\n",
      "prediction en\n",
      "average test loss is 2998079.0\n",
      "Epoch 13 of 50 LR [0.008329720049289998]\n"
     ]
    },
    {
     "name": "stderr",
     "output_type": "stream",
     "text": [
      "1it [00:21, 21.52s/it]\n"
     ]
    },
    {
     "name": "stdout",
     "output_type": "stream",
     "text": [
      "MEAN EPOCH LOSS IS 82.09713745117188\n"
     ]
    },
    {
     "name": "stderr",
     "output_type": "stream",
     "text": [
      "\r",
      "0it [00:00, ?it/s]"
     ]
    },
    {
     "name": "stdout",
     "output_type": "stream",
     "text": [
      "target no\n",
      "prediction oet\n",
      "average test loss is 87411720.0\n",
      "Epoch 14 of 50 LR [0.008079828447811297]\n"
     ]
    },
    {
     "name": "stderr",
     "output_type": "stream",
     "text": [
      "1it [00:22, 22.99s/it]\n"
     ]
    },
    {
     "name": "stdout",
     "output_type": "stream",
     "text": [
      "MEAN EPOCH LOSS IS 98.4258804321289\n"
     ]
    },
    {
     "name": "stderr",
     "output_type": "stream",
     "text": [
      "\r",
      "0it [00:00, ?it/s]"
     ]
    },
    {
     "name": "stdout",
     "output_type": "stream",
     "text": [
      "target one\n",
      "prediction tn\n",
      "average test loss is 5525.849609375\n",
      "Epoch 15 of 50 LR [0.008079828447811297]\n"
     ]
    },
    {
     "name": "stderr",
     "output_type": "stream",
     "text": [
      "1it [00:21, 21.58s/it]\n"
     ]
    },
    {
     "name": "stdout",
     "output_type": "stream",
     "text": [
      "MEAN EPOCH LOSS IS 83.3631362915039\n"
     ]
    },
    {
     "name": "stderr",
     "output_type": "stream",
     "text": [
      "\r",
      "0it [00:00, ?it/s]"
     ]
    },
    {
     "name": "stdout",
     "output_type": "stream",
     "text": [
      "target no\n",
      "prediction tn\n",
      "average test loss is 8114.93603515625\n",
      "Epoch 16 of 50 LR [0.007837433594376959]\n"
     ]
    },
    {
     "name": "stderr",
     "output_type": "stream",
     "text": [
      "1it [00:22, 22.21s/it]\n"
     ]
    },
    {
     "name": "stdout",
     "output_type": "stream",
     "text": [
      "MEAN EPOCH LOSS IS 76.11463165283203\n"
     ]
    },
    {
     "name": "stderr",
     "output_type": "stream",
     "text": [
      "\r",
      "0it [00:00, ?it/s]"
     ]
    },
    {
     "name": "stdout",
     "output_type": "stream",
     "text": [
      "target no\n",
      "prediction t\n",
      "average test loss is 4529.8974609375\n",
      "Epoch 17 of 50 LR [0.007837433594376959]\n"
     ]
    },
    {
     "name": "stderr",
     "output_type": "stream",
     "text": [
      "1it [00:23, 23.12s/it]\n"
     ]
    },
    {
     "name": "stdout",
     "output_type": "stream",
     "text": [
      "MEAN EPOCH LOSS IS 87.01319122314453\n"
     ]
    },
    {
     "name": "stderr",
     "output_type": "stream",
     "text": [
      "\r",
      "0it [00:00, ?it/s]"
     ]
    },
    {
     "name": "stdout",
     "output_type": "stream",
     "text": [
      "target one\n",
      "prediction etn\n",
      "average test loss is 56668.35546875\n",
      "Epoch 18 of 50 LR [0.00760231058654565]\n"
     ]
    },
    {
     "name": "stderr",
     "output_type": "stream",
     "text": [
      "1it [00:19, 19.09s/it]\n"
     ]
    },
    {
     "name": "stdout",
     "output_type": "stream",
     "text": [
      "MEAN EPOCH LOSS IS 77.91963958740234\n"
     ]
    },
    {
     "name": "stderr",
     "output_type": "stream",
     "text": [
      "\r",
      "0it [00:00, ?it/s]"
     ]
    },
    {
     "name": "stdout",
     "output_type": "stream",
     "text": [
      "target firefox\n",
      "prediction t\n",
      "average test loss is 40638.70703125\n",
      "Epoch 19 of 50 LR [0.00760231058654565]\n"
     ]
    },
    {
     "name": "stderr",
     "output_type": "stream",
     "text": [
      "1it [00:18, 18.52s/it]\n"
     ]
    },
    {
     "name": "stdout",
     "output_type": "stream",
     "text": [
      "MEAN EPOCH LOSS IS 64.15266418457031\n"
     ]
    },
    {
     "name": "stderr",
     "output_type": "stream",
     "text": [
      "\r",
      "0it [00:00, ?it/s]"
     ]
    },
    {
     "name": "stdout",
     "output_type": "stream",
     "text": [
      "target six\n",
      "prediction tetn\n",
      "average test loss is 417.474609375\n",
      "Epoch 20 of 50 LR [0.0073742412689492805]\n"
     ]
    },
    {
     "name": "stderr",
     "output_type": "stream",
     "text": [
      "1it [00:18, 18.93s/it]\n"
     ]
    },
    {
     "name": "stdout",
     "output_type": "stream",
     "text": [
      "MEAN EPOCH LOSS IS 67.41703796386719\n"
     ]
    },
    {
     "name": "stderr",
     "output_type": "stream",
     "text": [
      "\r",
      "0it [00:00, ?it/s]"
     ]
    },
    {
     "name": "stdout",
     "output_type": "stream",
     "text": [
      "target seven\n",
      "prediction si\n",
      "average test loss is 16.131244659423828\n",
      "Epoch 21 of 50 LR [0.0073742412689492805]\n"
     ]
    },
    {
     "name": "stderr",
     "output_type": "stream",
     "text": [
      "1it [00:18, 18.17s/it]\n"
     ]
    },
    {
     "name": "stdout",
     "output_type": "stream",
     "text": [
      "MEAN EPOCH LOSS IS 67.69014739990234\n"
     ]
    },
    {
     "name": "stderr",
     "output_type": "stream",
     "text": [
      "\r",
      "0it [00:00, ?it/s]"
     ]
    },
    {
     "name": "stdout",
     "output_type": "stream",
     "text": [
      "target five\n",
      "prediction si\n",
      "average test loss is 25.321468353271484\n",
      "Epoch 22 of 50 LR [0.007153014030880802]\n"
     ]
    },
    {
     "name": "stderr",
     "output_type": "stream",
     "text": [
      "1it [00:18, 18.57s/it]\n"
     ]
    },
    {
     "name": "stdout",
     "output_type": "stream",
     "text": [
      "MEAN EPOCH LOSS IS 73.33293151855469\n"
     ]
    },
    {
     "name": "stderr",
     "output_type": "stream",
     "text": [
      "\r",
      "0it [00:00, ?it/s]"
     ]
    },
    {
     "name": "stdout",
     "output_type": "stream",
     "text": [
      "target nine\n",
      "prediction si\n",
      "average test loss is 23.083044052124023\n",
      "Epoch 23 of 50 LR [0.007153014030880802]\n"
     ]
    },
    {
     "name": "stderr",
     "output_type": "stream",
     "text": [
      "1it [00:19, 19.38s/it]\n"
     ]
    },
    {
     "name": "stdout",
     "output_type": "stream",
     "text": [
      "MEAN EPOCH LOSS IS 56.650047302246094\n"
     ]
    },
    {
     "name": "stderr",
     "output_type": "stream",
     "text": [
      "\r",
      "0it [00:00, ?it/s]"
     ]
    },
    {
     "name": "stdout",
     "output_type": "stream",
     "text": [
      "target no\n",
      "prediction si\n",
      "average test loss is 34.96870040893555\n",
      "Epoch 24 of 50 LR [0.006938423609954378]\n"
     ]
    },
    {
     "name": "stderr",
     "output_type": "stream",
     "text": [
      "1it [00:23, 23.50s/it]\n"
     ]
    },
    {
     "name": "stdout",
     "output_type": "stream",
     "text": [
      "MEAN EPOCH LOSS IS 62.27075958251953\n"
     ]
    },
    {
     "name": "stderr",
     "output_type": "stream",
     "text": [
      "\r",
      "0it [00:00, ?it/s]"
     ]
    },
    {
     "name": "stdout",
     "output_type": "stream",
     "text": [
      "target five\n",
      "prediction si\n",
      "average test loss is 40.62408447265625\n",
      "Epoch 25 of 50 LR [0.006938423609954378]\n"
     ]
    },
    {
     "name": "stderr",
     "output_type": "stream",
     "text": [
      "1it [00:18, 18.86s/it]\n"
     ]
    },
    {
     "name": "stdout",
     "output_type": "stream",
     "text": [
      "MEAN EPOCH LOSS IS 52.795684814453125\n"
     ]
    },
    {
     "name": "stderr",
     "output_type": "stream",
     "text": [
      "\r",
      "0it [00:00, ?it/s]"
     ]
    },
    {
     "name": "stdout",
     "output_type": "stream",
     "text": [
      "target two\n",
      "prediction si\n",
      "average test loss is 41.407981872558594\n",
      "Epoch 26 of 50 LR [0.006730270901655747]\n"
     ]
    },
    {
     "name": "stderr",
     "output_type": "stream",
     "text": [
      "1it [00:18, 18.59s/it]\n"
     ]
    },
    {
     "name": "stdout",
     "output_type": "stream",
     "text": [
      "MEAN EPOCH LOSS IS 63.195892333984375\n"
     ]
    },
    {
     "name": "stderr",
     "output_type": "stream",
     "text": [
      "\r",
      "0it [00:00, ?it/s]"
     ]
    },
    {
     "name": "stdout",
     "output_type": "stream",
     "text": [
      "target firefox\n",
      "prediction osi\n",
      "average test loss is 52.09366989135742\n",
      "Epoch 27 of 50 LR [0.006730270901655747]\n"
     ]
    },
    {
     "name": "stderr",
     "output_type": "stream",
     "text": [
      "1it [00:19, 19.34s/it]\n"
     ]
    },
    {
     "name": "stdout",
     "output_type": "stream",
     "text": [
      "MEAN EPOCH LOSS IS 55.05607223510742\n"
     ]
    },
    {
     "name": "stderr",
     "output_type": "stream",
     "text": [
      "\r",
      "0it [00:00, ?it/s]"
     ]
    },
    {
     "name": "stdout",
     "output_type": "stream",
     "text": [
      "target no\n",
      "prediction osi\n",
      "average test loss is 57.57441329956055\n",
      "Epoch 28 of 50 LR [0.006528362774606074]\n"
     ]
    },
    {
     "name": "stderr",
     "output_type": "stream",
     "text": [
      "1it [00:21, 21.53s/it]\n"
     ]
    },
    {
     "name": "stdout",
     "output_type": "stream",
     "text": [
      "MEAN EPOCH LOSS IS 60.447044372558594\n"
     ]
    },
    {
     "name": "stderr",
     "output_type": "stream",
     "text": [
      "\r",
      "0it [00:00, ?it/s]"
     ]
    },
    {
     "name": "stdout",
     "output_type": "stream",
     "text": [
      "target nine\n",
      "prediction oi\n",
      "average test loss is 36.59019470214844\n",
      "Epoch 29 of 50 LR [0.006528362774606074]\n"
     ]
    },
    {
     "name": "stderr",
     "output_type": "stream",
     "text": [
      "1it [00:21, 21.15s/it]\n"
     ]
    },
    {
     "name": "stdout",
     "output_type": "stream",
     "text": [
      "MEAN EPOCH LOSS IS 56.6227912902832\n"
     ]
    },
    {
     "name": "stderr",
     "output_type": "stream",
     "text": [
      "\r",
      "0it [00:00, ?it/s]"
     ]
    },
    {
     "name": "stdout",
     "output_type": "stream",
     "text": [
      "target one\n",
      "prediction os\n",
      "average test loss is 52.57695388793945\n",
      "Epoch 30 of 50 LR [0.006332511891367892]\n"
     ]
    },
    {
     "name": "stderr",
     "output_type": "stream",
     "text": [
      "1it [00:23, 23.62s/it]\n"
     ]
    },
    {
     "name": "stdout",
     "output_type": "stream",
     "text": [
      "MEAN EPOCH LOSS IS 53.70792770385742\n"
     ]
    },
    {
     "name": "stderr",
     "output_type": "stream",
     "text": [
      "\r",
      "0it [00:00, ?it/s]"
     ]
    },
    {
     "name": "stdout",
     "output_type": "stream",
     "text": [
      "target eight\n",
      "prediction osi\n",
      "average test loss is 46.45207214355469\n",
      "Epoch 31 of 50 LR [0.006332511891367892]\n"
     ]
    },
    {
     "name": "stderr",
     "output_type": "stream",
     "text": [
      "1it [00:20, 20.53s/it]\n"
     ]
    },
    {
     "name": "stdout",
     "output_type": "stream",
     "text": [
      "MEAN EPOCH LOSS IS 58.44195556640625\n"
     ]
    },
    {
     "name": "stderr",
     "output_type": "stream",
     "text": [
      "\r",
      "0it [00:00, ?it/s]"
     ]
    },
    {
     "name": "stdout",
     "output_type": "stream",
     "text": [
      "target no\n",
      "prediction s\n",
      "average test loss is 56.33864212036133\n",
      "Epoch 32 of 50 LR [0.006142536534626855]\n"
     ]
    },
    {
     "name": "stderr",
     "output_type": "stream",
     "text": [
      "1it [00:22, 22.49s/it]\n"
     ]
    },
    {
     "name": "stdout",
     "output_type": "stream",
     "text": [
      "MEAN EPOCH LOSS IS 53.06718826293945\n"
     ]
    },
    {
     "name": "stderr",
     "output_type": "stream",
     "text": [
      "\r",
      "0it [00:00, ?it/s]"
     ]
    },
    {
     "name": "stdout",
     "output_type": "stream",
     "text": [
      "target yes\n",
      "prediction os\n",
      "average test loss is 53.105079650878906\n",
      "Epoch 33 of 50 LR [0.006142536534626855]\n"
     ]
    },
    {
     "name": "stderr",
     "output_type": "stream",
     "text": [
      "1it [00:19, 19.79s/it]\n"
     ]
    },
    {
     "name": "stdout",
     "output_type": "stream",
     "text": [
      "MEAN EPOCH LOSS IS 49.997745513916016\n"
     ]
    },
    {
     "name": "stderr",
     "output_type": "stream",
     "text": [
      "\r",
      "0it [00:00, ?it/s]"
     ]
    },
    {
     "name": "stdout",
     "output_type": "stream",
     "text": [
      "target eight\n",
      "prediction oi\n",
      "average test loss is 60.20734405517578\n",
      "Epoch 34 of 50 LR [0.005958260438588049]\n"
     ]
    },
    {
     "name": "stderr",
     "output_type": "stream",
     "text": [
      "1it [00:20, 20.08s/it]\n"
     ]
    },
    {
     "name": "stdout",
     "output_type": "stream",
     "text": [
      "MEAN EPOCH LOSS IS 48.32067108154297\n"
     ]
    },
    {
     "name": "stderr",
     "output_type": "stream",
     "text": [
      "\r",
      "0it [00:00, ?it/s]"
     ]
    },
    {
     "name": "stdout",
     "output_type": "stream",
     "text": [
      "target five\n",
      "prediction oeos\n",
      "average test loss is 61.69257354736328\n",
      "Epoch 35 of 50 LR [0.005958260438588049]\n"
     ]
    },
    {
     "name": "stderr",
     "output_type": "stream",
     "text": [
      "1it [00:19, 19.26s/it]\n"
     ]
    },
    {
     "name": "stdout",
     "output_type": "stream",
     "text": [
      "MEAN EPOCH LOSS IS 45.0263786315918\n"
     ]
    },
    {
     "name": "stderr",
     "output_type": "stream",
     "text": [
      "\r",
      "0it [00:00, ?it/s]"
     ]
    },
    {
     "name": "stdout",
     "output_type": "stream",
     "text": [
      "target six\n",
      "prediction osi\n",
      "average test loss is 54.70337677001953\n",
      "Epoch 36 of 50 LR [0.005779512625430407]\n"
     ]
    },
    {
     "name": "stderr",
     "output_type": "stream",
     "text": [
      "1it [00:18, 18.53s/it]\n"
     ]
    },
    {
     "name": "stdout",
     "output_type": "stream",
     "text": [
      "MEAN EPOCH LOSS IS 54.89197540283203\n"
     ]
    },
    {
     "name": "stderr",
     "output_type": "stream",
     "text": [
      "\r",
      "0it [00:00, ?it/s]"
     ]
    },
    {
     "name": "stdout",
     "output_type": "stream",
     "text": [
      "target no\n",
      "prediction s\n",
      "average test loss is 57.107948303222656\n",
      "Epoch 37 of 50 LR [0.005779512625430407]\n"
     ]
    },
    {
     "name": "stderr",
     "output_type": "stream",
     "text": [
      "1it [00:20, 20.01s/it]\n"
     ]
    },
    {
     "name": "stdout",
     "output_type": "stream",
     "text": [
      "MEAN EPOCH LOSS IS 46.737457275390625\n"
     ]
    },
    {
     "name": "stderr",
     "output_type": "stream",
     "text": [
      "\r",
      "0it [00:00, ?it/s]"
     ]
    },
    {
     "name": "stdout",
     "output_type": "stream",
     "text": [
      "target one\n",
      "prediction os\n",
      "average test loss is 54.19042205810547\n",
      "Epoch 38 of 50 LR [0.005606127246667494]\n"
     ]
    },
    {
     "name": "stderr",
     "output_type": "stream",
     "text": [
      "1it [00:18, 18.87s/it]\n"
     ]
    },
    {
     "name": "stdout",
     "output_type": "stream",
     "text": [
      "MEAN EPOCH LOSS IS 48.88520050048828\n"
     ]
    },
    {
     "name": "stderr",
     "output_type": "stream",
     "text": [
      "\r",
      "0it [00:00, ?it/s]"
     ]
    },
    {
     "name": "stdout",
     "output_type": "stream",
     "text": [
      "target eight\n",
      "prediction os\n",
      "average test loss is 59.05214309692383\n",
      "Epoch 39 of 50 LR [0.005606127246667494]\n"
     ]
    },
    {
     "name": "stderr",
     "output_type": "stream",
     "text": [
      "1it [00:18, 18.47s/it]\n"
     ]
    },
    {
     "name": "stdout",
     "output_type": "stream",
     "text": [
      "MEAN EPOCH LOSS IS 44.47171401977539\n"
     ]
    },
    {
     "name": "stderr",
     "output_type": "stream",
     "text": [
      "\r",
      "0it [00:00, ?it/s]"
     ]
    },
    {
     "name": "stdout",
     "output_type": "stream",
     "text": [
      "target no\n",
      "prediction sn\n",
      "average test loss is 75.12632751464844\n",
      "Epoch 40 of 50 LR [0.005437943429267469]\n"
     ]
    },
    {
     "name": "stderr",
     "output_type": "stream",
     "text": [
      "1it [00:18, 18.91s/it]\n"
     ]
    },
    {
     "name": "stdout",
     "output_type": "stream",
     "text": [
      "MEAN EPOCH LOSS IS 50.97453689575195\n"
     ]
    },
    {
     "name": "stderr",
     "output_type": "stream",
     "text": [
      "\r",
      "0it [00:00, ?it/s]"
     ]
    },
    {
     "name": "stdout",
     "output_type": "stream",
     "text": [
      "target six\n",
      "prediction osns\n",
      "average test loss is 46.159156799316406\n",
      "Epoch 41 of 50 LR [0.005437943429267469]\n"
     ]
    },
    {
     "name": "stderr",
     "output_type": "stream",
     "text": [
      "1it [00:19, 19.54s/it]\n"
     ]
    },
    {
     "name": "stdout",
     "output_type": "stream",
     "text": [
      "MEAN EPOCH LOSS IS 55.7349853515625\n"
     ]
    },
    {
     "name": "stderr",
     "output_type": "stream",
     "text": [
      "\r",
      "0it [00:00, ?it/s]"
     ]
    },
    {
     "name": "stdout",
     "output_type": "stream",
     "text": [
      "target no\n",
      "prediction s\n",
      "average test loss is 49.095829010009766\n",
      "Epoch 42 of 50 LR [0.005274805126389445]\n"
     ]
    },
    {
     "name": "stderr",
     "output_type": "stream",
     "text": [
      "1it [00:18, 18.82s/it]\n"
     ]
    },
    {
     "name": "stdout",
     "output_type": "stream",
     "text": [
      "MEAN EPOCH LOSS IS 45.49509048461914\n"
     ]
    },
    {
     "name": "stderr",
     "output_type": "stream",
     "text": [
      "\r",
      "0it [00:00, ?it/s]"
     ]
    },
    {
     "name": "stdout",
     "output_type": "stream",
     "text": [
      "target firefox\n",
      "prediction oeos\n",
      "average test loss is 48.35201644897461\n",
      "Epoch 43 of 50 LR [0.005274805126389445]\n"
     ]
    },
    {
     "name": "stderr",
     "output_type": "stream",
     "text": [
      "1it [00:19, 19.68s/it]\n"
     ]
    },
    {
     "name": "stdout",
     "output_type": "stream",
     "text": [
      "MEAN EPOCH LOSS IS 42.88180923461914\n"
     ]
    },
    {
     "name": "stderr",
     "output_type": "stream",
     "text": [
      "\r",
      "0it [00:00, ?it/s]"
     ]
    },
    {
     "name": "stdout",
     "output_type": "stream",
     "text": [
      "target no\n",
      "prediction s\n",
      "average test loss is 48.64387130737305\n",
      "Epoch 44 of 50 LR [0.005116560972597762]\n"
     ]
    },
    {
     "name": "stderr",
     "output_type": "stream",
     "text": [
      "1it [00:21, 21.26s/it]\n"
     ]
    },
    {
     "name": "stdout",
     "output_type": "stream",
     "text": [
      "MEAN EPOCH LOSS IS 48.94569396972656\n"
     ]
    },
    {
     "name": "stderr",
     "output_type": "stream",
     "text": [
      "\r",
      "0it [00:00, ?it/s]"
     ]
    },
    {
     "name": "stdout",
     "output_type": "stream",
     "text": [
      "target eight\n",
      "prediction snsns\n",
      "average test loss is 55.91498947143555\n",
      "Epoch 45 of 50 LR [0.005116560972597762]\n"
     ]
    },
    {
     "name": "stderr",
     "output_type": "stream",
     "text": [
      "1it [00:18, 18.59s/it]\n"
     ]
    },
    {
     "name": "stdout",
     "output_type": "stream",
     "text": [
      "MEAN EPOCH LOSS IS 38.88740921020508\n"
     ]
    },
    {
     "name": "stderr",
     "output_type": "stream",
     "text": [
      "\r",
      "0it [00:00, ?it/s]"
     ]
    },
    {
     "name": "stdout",
     "output_type": "stream",
     "text": [
      "target yes\n",
      "prediction os\n",
      "average test loss is 47.403076171875\n",
      "Epoch 46 of 50 LR [0.004963064143419829]\n"
     ]
    },
    {
     "name": "stderr",
     "output_type": "stream",
     "text": [
      "0it [00:03, ?it/s]\n"
     ]
    },
    {
     "ename": "KeyboardInterrupt",
     "evalue": "",
     "output_type": "error",
     "traceback": [
      "\u001b[0;31m---------------------------------------------------------------------------\u001b[0m",
      "\u001b[0;31mKeyboardInterrupt\u001b[0m                         Traceback (most recent call last)",
      "\u001b[0;32m<ipython-input-56-97085eb810d7>\u001b[0m in \u001b[0;36m<module>\u001b[0;34m\u001b[0m\n\u001b[1;32m      1\u001b[0m train(model, opt, train_loader, scheduler, CTCLoss, device,\n\u001b[0;32m----> 2\u001b[0;31m      n_epochs=NUM_EPOCHS, val_dl=val_loader)\n\u001b[0m",
      "\u001b[0;32m<ipython-input-49-ca3ec066258d>\u001b[0m in \u001b[0;36mtrain\u001b[0;34m(model, opt, train_dl, scheduler, CTCLoss, device, n_epochs, val_dl)\u001b[0m\n\u001b[1;32m      6\u001b[0m         \u001b[0mprint\u001b[0m\u001b[0;34m(\u001b[0m\u001b[0;34m\"Epoch {} of {}\"\u001b[0m\u001b[0;34m.\u001b[0m\u001b[0mformat\u001b[0m\u001b[0;34m(\u001b[0m\u001b[0mepoch\u001b[0m\u001b[0;34m,\u001b[0m \u001b[0mn_epochs\u001b[0m\u001b[0;34m)\u001b[0m\u001b[0;34m,\u001b[0m \u001b[0;34m'LR'\u001b[0m\u001b[0;34m,\u001b[0m \u001b[0mscheduler\u001b[0m\u001b[0;34m.\u001b[0m\u001b[0mget_last_lr\u001b[0m\u001b[0;34m(\u001b[0m\u001b[0;34m)\u001b[0m\u001b[0;34m)\u001b[0m\u001b[0;34m\u001b[0m\u001b[0;34m\u001b[0m\u001b[0m\n\u001b[1;32m      7\u001b[0m \u001b[0;34m\u001b[0m\u001b[0m\n\u001b[0;32m----> 8\u001b[0;31m         \u001b[0mmean_loss\u001b[0m \u001b[0;34m=\u001b[0m \u001b[0mtrain_epoch\u001b[0m\u001b[0;34m(\u001b[0m\u001b[0mmodel\u001b[0m\u001b[0;34m,\u001b[0m \u001b[0mopt\u001b[0m\u001b[0;34m,\u001b[0m \u001b[0mtrain_dl\u001b[0m\u001b[0;34m,\u001b[0m \u001b[0mCTCLoss\u001b[0m\u001b[0;34m,\u001b[0m \u001b[0mdevice\u001b[0m\u001b[0;34m)\u001b[0m\u001b[0;34m\u001b[0m\u001b[0;34m\u001b[0m\u001b[0m\n\u001b[0m\u001b[1;32m      9\u001b[0m         \u001b[0mprint\u001b[0m\u001b[0;34m(\u001b[0m\u001b[0;34m'MEAN EPOCH LOSS IS'\u001b[0m\u001b[0;34m,\u001b[0m \u001b[0mmean_loss\u001b[0m\u001b[0;34m)\u001b[0m\u001b[0;34m\u001b[0m\u001b[0;34m\u001b[0m\u001b[0m\n\u001b[1;32m     10\u001b[0m \u001b[0;34m\u001b[0m\u001b[0m\n",
      "\u001b[0;32m<ipython-input-48-c154ccfaaa38>\u001b[0m in \u001b[0;36mtrain_epoch\u001b[0;34m(model, optimizer, dataloader, CTCLoss, device)\u001b[0m\n\u001b[1;32m     12\u001b[0m \u001b[0;34m\u001b[0m\u001b[0m\n\u001b[1;32m     13\u001b[0m         \u001b[0;31m#print('before model', trans_wavs.shape)\u001b[0m\u001b[0;34m\u001b[0m\u001b[0;34m\u001b[0m\u001b[0;34m\u001b[0m\u001b[0m\n\u001b[0;32m---> 14\u001b[0;31m         \u001b[0moutput\u001b[0m \u001b[0;34m=\u001b[0m \u001b[0mmodel\u001b[0m\u001b[0;34m(\u001b[0m\u001b[0mtrans_wavs\u001b[0m\u001b[0;34m)\u001b[0m\u001b[0;34m\u001b[0m\u001b[0;34m\u001b[0m\u001b[0m\n\u001b[0m\u001b[1;32m     15\u001b[0m         \u001b[0;31m#print('after model', output.shape)\u001b[0m\u001b[0;34m\u001b[0m\u001b[0;34m\u001b[0m\u001b[0;34m\u001b[0m\u001b[0m\n\u001b[1;32m     16\u001b[0m         \u001b[0moutput\u001b[0m \u001b[0;34m=\u001b[0m \u001b[0mF\u001b[0m\u001b[0;34m.\u001b[0m\u001b[0mlog_softmax\u001b[0m\u001b[0;34m(\u001b[0m\u001b[0moutput\u001b[0m\u001b[0;34m,\u001b[0m \u001b[0mdim\u001b[0m\u001b[0;34m=\u001b[0m\u001b[0;36m1\u001b[0m\u001b[0;34m)\u001b[0m                                   \u001b[0;31m### 2?\u001b[0m\u001b[0;34m\u001b[0m\u001b[0;34m\u001b[0m\u001b[0m\n",
      "\u001b[0;32m~/.local/lib/python3.6/site-packages/torch/nn/modules/module.py\u001b[0m in \u001b[0;36m_call_impl\u001b[0;34m(self, *input, **kwargs)\u001b[0m\n\u001b[1;32m    720\u001b[0m             \u001b[0mresult\u001b[0m \u001b[0;34m=\u001b[0m \u001b[0mself\u001b[0m\u001b[0;34m.\u001b[0m\u001b[0m_slow_forward\u001b[0m\u001b[0;34m(\u001b[0m\u001b[0;34m*\u001b[0m\u001b[0minput\u001b[0m\u001b[0;34m,\u001b[0m \u001b[0;34m**\u001b[0m\u001b[0mkwargs\u001b[0m\u001b[0;34m)\u001b[0m\u001b[0;34m\u001b[0m\u001b[0;34m\u001b[0m\u001b[0m\n\u001b[1;32m    721\u001b[0m         \u001b[0;32melse\u001b[0m\u001b[0;34m:\u001b[0m\u001b[0;34m\u001b[0m\u001b[0;34m\u001b[0m\u001b[0m\n\u001b[0;32m--> 722\u001b[0;31m             \u001b[0mresult\u001b[0m \u001b[0;34m=\u001b[0m \u001b[0mself\u001b[0m\u001b[0;34m.\u001b[0m\u001b[0mforward\u001b[0m\u001b[0;34m(\u001b[0m\u001b[0;34m*\u001b[0m\u001b[0minput\u001b[0m\u001b[0;34m,\u001b[0m \u001b[0;34m**\u001b[0m\u001b[0mkwargs\u001b[0m\u001b[0;34m)\u001b[0m\u001b[0;34m\u001b[0m\u001b[0;34m\u001b[0m\u001b[0m\n\u001b[0m\u001b[1;32m    723\u001b[0m         for hook in itertools.chain(\n\u001b[1;32m    724\u001b[0m                 \u001b[0m_global_forward_hooks\u001b[0m\u001b[0;34m.\u001b[0m\u001b[0mvalues\u001b[0m\u001b[0;34m(\u001b[0m\u001b[0;34m)\u001b[0m\u001b[0;34m,\u001b[0m\u001b[0;34m\u001b[0m\u001b[0;34m\u001b[0m\u001b[0m\n",
      "\u001b[0;32m<ipython-input-46-92a39ffb1aa5>\u001b[0m in \u001b[0;36mforward\u001b[0;34m(self, x)\u001b[0m\n\u001b[1;32m     30\u001b[0m     \u001b[0;32mdef\u001b[0m \u001b[0mforward\u001b[0m\u001b[0;34m(\u001b[0m\u001b[0mself\u001b[0m\u001b[0;34m,\u001b[0m \u001b[0mx\u001b[0m\u001b[0;34m)\u001b[0m\u001b[0;34m:\u001b[0m\u001b[0;34m\u001b[0m\u001b[0;34m\u001b[0m\u001b[0m\n\u001b[1;32m     31\u001b[0m         \u001b[0mc1\u001b[0m \u001b[0;34m=\u001b[0m \u001b[0mF\u001b[0m\u001b[0;34m.\u001b[0m\u001b[0mrelu\u001b[0m\u001b[0;34m(\u001b[0m\u001b[0mself\u001b[0m\u001b[0;34m.\u001b[0m\u001b[0mc1\u001b[0m\u001b[0;34m(\u001b[0m\u001b[0mx\u001b[0m\u001b[0;34m)\u001b[0m\u001b[0;34m)\u001b[0m\u001b[0;34m\u001b[0m\u001b[0;34m\u001b[0m\u001b[0m\n\u001b[0;32m---> 32\u001b[0;31m         \u001b[0mblocks\u001b[0m \u001b[0;34m=\u001b[0m \u001b[0mself\u001b[0m\u001b[0;34m.\u001b[0m\u001b[0mblocks\u001b[0m\u001b[0;34m(\u001b[0m\u001b[0mc1\u001b[0m\u001b[0;34m)\u001b[0m\u001b[0;34m\u001b[0m\u001b[0;34m\u001b[0m\u001b[0m\n\u001b[0m\u001b[1;32m     33\u001b[0m         \u001b[0mc2\u001b[0m \u001b[0;34m=\u001b[0m \u001b[0mF\u001b[0m\u001b[0;34m.\u001b[0m\u001b[0mrelu\u001b[0m\u001b[0;34m(\u001b[0m\u001b[0mself\u001b[0m\u001b[0;34m.\u001b[0m\u001b[0mc2\u001b[0m\u001b[0;34m(\u001b[0m\u001b[0mblocks\u001b[0m\u001b[0;34m)\u001b[0m\u001b[0;34m)\u001b[0m\u001b[0;34m\u001b[0m\u001b[0;34m\u001b[0m\u001b[0m\n\u001b[1;32m     34\u001b[0m         \u001b[0mc3\u001b[0m \u001b[0;34m=\u001b[0m \u001b[0mself\u001b[0m\u001b[0;34m.\u001b[0m\u001b[0mc3\u001b[0m\u001b[0;34m(\u001b[0m\u001b[0mc2\u001b[0m\u001b[0;34m)\u001b[0m\u001b[0;34m\u001b[0m\u001b[0;34m\u001b[0m\u001b[0m\n",
      "\u001b[0;32m~/.local/lib/python3.6/site-packages/torch/nn/modules/module.py\u001b[0m in \u001b[0;36m_call_impl\u001b[0;34m(self, *input, **kwargs)\u001b[0m\n\u001b[1;32m    720\u001b[0m             \u001b[0mresult\u001b[0m \u001b[0;34m=\u001b[0m \u001b[0mself\u001b[0m\u001b[0;34m.\u001b[0m\u001b[0m_slow_forward\u001b[0m\u001b[0;34m(\u001b[0m\u001b[0;34m*\u001b[0m\u001b[0minput\u001b[0m\u001b[0;34m,\u001b[0m \u001b[0;34m**\u001b[0m\u001b[0mkwargs\u001b[0m\u001b[0;34m)\u001b[0m\u001b[0;34m\u001b[0m\u001b[0;34m\u001b[0m\u001b[0m\n\u001b[1;32m    721\u001b[0m         \u001b[0;32melse\u001b[0m\u001b[0;34m:\u001b[0m\u001b[0;34m\u001b[0m\u001b[0;34m\u001b[0m\u001b[0m\n\u001b[0;32m--> 722\u001b[0;31m             \u001b[0mresult\u001b[0m \u001b[0;34m=\u001b[0m \u001b[0mself\u001b[0m\u001b[0;34m.\u001b[0m\u001b[0mforward\u001b[0m\u001b[0;34m(\u001b[0m\u001b[0;34m*\u001b[0m\u001b[0minput\u001b[0m\u001b[0;34m,\u001b[0m \u001b[0;34m**\u001b[0m\u001b[0mkwargs\u001b[0m\u001b[0;34m)\u001b[0m\u001b[0;34m\u001b[0m\u001b[0;34m\u001b[0m\u001b[0m\n\u001b[0m\u001b[1;32m    723\u001b[0m         for hook in itertools.chain(\n\u001b[1;32m    724\u001b[0m                 \u001b[0m_global_forward_hooks\u001b[0m\u001b[0;34m.\u001b[0m\u001b[0mvalues\u001b[0m\u001b[0;34m(\u001b[0m\u001b[0;34m)\u001b[0m\u001b[0;34m,\u001b[0m\u001b[0;34m\u001b[0m\u001b[0;34m\u001b[0m\u001b[0m\n",
      "\u001b[0;32m~/.local/lib/python3.6/site-packages/torch/nn/modules/container.py\u001b[0m in \u001b[0;36mforward\u001b[0;34m(self, input)\u001b[0m\n\u001b[1;32m    115\u001b[0m     \u001b[0;32mdef\u001b[0m \u001b[0mforward\u001b[0m\u001b[0;34m(\u001b[0m\u001b[0mself\u001b[0m\u001b[0;34m,\u001b[0m \u001b[0minput\u001b[0m\u001b[0;34m)\u001b[0m\u001b[0;34m:\u001b[0m\u001b[0;34m\u001b[0m\u001b[0;34m\u001b[0m\u001b[0m\n\u001b[1;32m    116\u001b[0m         \u001b[0;32mfor\u001b[0m \u001b[0mmodule\u001b[0m \u001b[0;32min\u001b[0m \u001b[0mself\u001b[0m\u001b[0;34m:\u001b[0m\u001b[0;34m\u001b[0m\u001b[0;34m\u001b[0m\u001b[0m\n\u001b[0;32m--> 117\u001b[0;31m             \u001b[0minput\u001b[0m \u001b[0;34m=\u001b[0m \u001b[0mmodule\u001b[0m\u001b[0;34m(\u001b[0m\u001b[0minput\u001b[0m\u001b[0;34m)\u001b[0m\u001b[0;34m\u001b[0m\u001b[0;34m\u001b[0m\u001b[0m\n\u001b[0m\u001b[1;32m    118\u001b[0m         \u001b[0;32mreturn\u001b[0m \u001b[0minput\u001b[0m\u001b[0;34m\u001b[0m\u001b[0;34m\u001b[0m\u001b[0m\n\u001b[1;32m    119\u001b[0m \u001b[0;34m\u001b[0m\u001b[0m\n",
      "\u001b[0;32m~/.local/lib/python3.6/site-packages/torch/nn/modules/module.py\u001b[0m in \u001b[0;36m_call_impl\u001b[0;34m(self, *input, **kwargs)\u001b[0m\n\u001b[1;32m    720\u001b[0m             \u001b[0mresult\u001b[0m \u001b[0;34m=\u001b[0m \u001b[0mself\u001b[0m\u001b[0;34m.\u001b[0m\u001b[0m_slow_forward\u001b[0m\u001b[0;34m(\u001b[0m\u001b[0;34m*\u001b[0m\u001b[0minput\u001b[0m\u001b[0;34m,\u001b[0m \u001b[0;34m**\u001b[0m\u001b[0mkwargs\u001b[0m\u001b[0;34m)\u001b[0m\u001b[0;34m\u001b[0m\u001b[0;34m\u001b[0m\u001b[0m\n\u001b[1;32m    721\u001b[0m         \u001b[0;32melse\u001b[0m\u001b[0;34m:\u001b[0m\u001b[0;34m\u001b[0m\u001b[0;34m\u001b[0m\u001b[0m\n\u001b[0;32m--> 722\u001b[0;31m             \u001b[0mresult\u001b[0m \u001b[0;34m=\u001b[0m \u001b[0mself\u001b[0m\u001b[0;34m.\u001b[0m\u001b[0mforward\u001b[0m\u001b[0;34m(\u001b[0m\u001b[0;34m*\u001b[0m\u001b[0minput\u001b[0m\u001b[0;34m,\u001b[0m \u001b[0;34m**\u001b[0m\u001b[0mkwargs\u001b[0m\u001b[0;34m)\u001b[0m\u001b[0;34m\u001b[0m\u001b[0;34m\u001b[0m\u001b[0m\n\u001b[0m\u001b[1;32m    723\u001b[0m         for hook in itertools.chain(\n\u001b[1;32m    724\u001b[0m                 \u001b[0m_global_forward_hooks\u001b[0m\u001b[0;34m.\u001b[0m\u001b[0mvalues\u001b[0m\u001b[0;34m(\u001b[0m\u001b[0;34m)\u001b[0m\u001b[0;34m,\u001b[0m\u001b[0;34m\u001b[0m\u001b[0;34m\u001b[0m\u001b[0m\n",
      "\u001b[0;32m<ipython-input-45-ae339b35cfc4>\u001b[0m in \u001b[0;36mforward\u001b[0;34m(self, x)\u001b[0m\n\u001b[1;32m     16\u001b[0m \u001b[0;34m\u001b[0m\u001b[0m\n\u001b[1;32m     17\u001b[0m     \u001b[0;32mdef\u001b[0m \u001b[0mforward\u001b[0m\u001b[0;34m(\u001b[0m\u001b[0mself\u001b[0m\u001b[0;34m,\u001b[0m \u001b[0mx\u001b[0m\u001b[0;34m)\u001b[0m\u001b[0;34m:\u001b[0m\u001b[0;34m\u001b[0m\u001b[0;34m\u001b[0m\u001b[0m\n\u001b[0;32m---> 18\u001b[0;31m         \u001b[0;32mreturn\u001b[0m \u001b[0mF\u001b[0m\u001b[0;34m.\u001b[0m\u001b[0mrelu\u001b[0m\u001b[0;34m(\u001b[0m\u001b[0mself\u001b[0m\u001b[0;34m.\u001b[0m\u001b[0mresidual\u001b[0m\u001b[0;34m(\u001b[0m\u001b[0mx\u001b[0m\u001b[0;34m)\u001b[0m \u001b[0;34m+\u001b[0m \u001b[0mself\u001b[0m\u001b[0;34m.\u001b[0m\u001b[0mlayers\u001b[0m\u001b[0;34m(\u001b[0m\u001b[0mx\u001b[0m\u001b[0;34m)\u001b[0m\u001b[0;34m)\u001b[0m\u001b[0;34m\u001b[0m\u001b[0;34m\u001b[0m\u001b[0m\n\u001b[0m",
      "\u001b[0;32m~/.local/lib/python3.6/site-packages/torch/nn/modules/module.py\u001b[0m in \u001b[0;36m_call_impl\u001b[0;34m(self, *input, **kwargs)\u001b[0m\n\u001b[1;32m    720\u001b[0m             \u001b[0mresult\u001b[0m \u001b[0;34m=\u001b[0m \u001b[0mself\u001b[0m\u001b[0;34m.\u001b[0m\u001b[0m_slow_forward\u001b[0m\u001b[0;34m(\u001b[0m\u001b[0;34m*\u001b[0m\u001b[0minput\u001b[0m\u001b[0;34m,\u001b[0m \u001b[0;34m**\u001b[0m\u001b[0mkwargs\u001b[0m\u001b[0;34m)\u001b[0m\u001b[0;34m\u001b[0m\u001b[0;34m\u001b[0m\u001b[0m\n\u001b[1;32m    721\u001b[0m         \u001b[0;32melse\u001b[0m\u001b[0;34m:\u001b[0m\u001b[0;34m\u001b[0m\u001b[0;34m\u001b[0m\u001b[0m\n\u001b[0;32m--> 722\u001b[0;31m             \u001b[0mresult\u001b[0m \u001b[0;34m=\u001b[0m \u001b[0mself\u001b[0m\u001b[0;34m.\u001b[0m\u001b[0mforward\u001b[0m\u001b[0;34m(\u001b[0m\u001b[0;34m*\u001b[0m\u001b[0minput\u001b[0m\u001b[0;34m,\u001b[0m \u001b[0;34m**\u001b[0m\u001b[0mkwargs\u001b[0m\u001b[0;34m)\u001b[0m\u001b[0;34m\u001b[0m\u001b[0;34m\u001b[0m\u001b[0m\n\u001b[0m\u001b[1;32m    723\u001b[0m         for hook in itertools.chain(\n\u001b[1;32m    724\u001b[0m                 \u001b[0m_global_forward_hooks\u001b[0m\u001b[0;34m.\u001b[0m\u001b[0mvalues\u001b[0m\u001b[0;34m(\u001b[0m\u001b[0;34m)\u001b[0m\u001b[0;34m,\u001b[0m\u001b[0;34m\u001b[0m\u001b[0;34m\u001b[0m\u001b[0m\n",
      "\u001b[0;32m~/.local/lib/python3.6/site-packages/torch/nn/modules/container.py\u001b[0m in \u001b[0;36mforward\u001b[0;34m(self, input)\u001b[0m\n\u001b[1;32m    115\u001b[0m     \u001b[0;32mdef\u001b[0m \u001b[0mforward\u001b[0m\u001b[0;34m(\u001b[0m\u001b[0mself\u001b[0m\u001b[0;34m,\u001b[0m \u001b[0minput\u001b[0m\u001b[0;34m)\u001b[0m\u001b[0;34m:\u001b[0m\u001b[0;34m\u001b[0m\u001b[0;34m\u001b[0m\u001b[0m\n\u001b[1;32m    116\u001b[0m         \u001b[0;32mfor\u001b[0m \u001b[0mmodule\u001b[0m \u001b[0;32min\u001b[0m \u001b[0mself\u001b[0m\u001b[0;34m:\u001b[0m\u001b[0;34m\u001b[0m\u001b[0;34m\u001b[0m\u001b[0m\n\u001b[0;32m--> 117\u001b[0;31m             \u001b[0minput\u001b[0m \u001b[0;34m=\u001b[0m \u001b[0mmodule\u001b[0m\u001b[0;34m(\u001b[0m\u001b[0minput\u001b[0m\u001b[0;34m)\u001b[0m\u001b[0;34m\u001b[0m\u001b[0;34m\u001b[0m\u001b[0m\n\u001b[0m\u001b[1;32m    118\u001b[0m         \u001b[0;32mreturn\u001b[0m \u001b[0minput\u001b[0m\u001b[0;34m\u001b[0m\u001b[0;34m\u001b[0m\u001b[0m\n\u001b[1;32m    119\u001b[0m \u001b[0;34m\u001b[0m\u001b[0m\n",
      "\u001b[0;32m~/.local/lib/python3.6/site-packages/torch/nn/modules/module.py\u001b[0m in \u001b[0;36m_call_impl\u001b[0;34m(self, *input, **kwargs)\u001b[0m\n\u001b[1;32m    720\u001b[0m             \u001b[0mresult\u001b[0m \u001b[0;34m=\u001b[0m \u001b[0mself\u001b[0m\u001b[0;34m.\u001b[0m\u001b[0m_slow_forward\u001b[0m\u001b[0;34m(\u001b[0m\u001b[0;34m*\u001b[0m\u001b[0minput\u001b[0m\u001b[0;34m,\u001b[0m \u001b[0;34m**\u001b[0m\u001b[0mkwargs\u001b[0m\u001b[0;34m)\u001b[0m\u001b[0;34m\u001b[0m\u001b[0;34m\u001b[0m\u001b[0m\n\u001b[1;32m    721\u001b[0m         \u001b[0;32melse\u001b[0m\u001b[0;34m:\u001b[0m\u001b[0;34m\u001b[0m\u001b[0;34m\u001b[0m\u001b[0m\n\u001b[0;32m--> 722\u001b[0;31m             \u001b[0mresult\u001b[0m \u001b[0;34m=\u001b[0m \u001b[0mself\u001b[0m\u001b[0;34m.\u001b[0m\u001b[0mforward\u001b[0m\u001b[0;34m(\u001b[0m\u001b[0;34m*\u001b[0m\u001b[0minput\u001b[0m\u001b[0;34m,\u001b[0m \u001b[0;34m**\u001b[0m\u001b[0mkwargs\u001b[0m\u001b[0;34m)\u001b[0m\u001b[0;34m\u001b[0m\u001b[0;34m\u001b[0m\u001b[0m\n\u001b[0m\u001b[1;32m    723\u001b[0m         for hook in itertools.chain(\n\u001b[1;32m    724\u001b[0m                 \u001b[0m_global_forward_hooks\u001b[0m\u001b[0;34m.\u001b[0m\u001b[0mvalues\u001b[0m\u001b[0;34m(\u001b[0m\u001b[0;34m)\u001b[0m\u001b[0;34m,\u001b[0m\u001b[0;34m\u001b[0m\u001b[0;34m\u001b[0m\u001b[0m\n",
      "\u001b[0;32m~/.local/lib/python3.6/site-packages/torch/nn/modules/container.py\u001b[0m in \u001b[0;36mforward\u001b[0;34m(self, input)\u001b[0m\n\u001b[1;32m    115\u001b[0m     \u001b[0;32mdef\u001b[0m \u001b[0mforward\u001b[0m\u001b[0;34m(\u001b[0m\u001b[0mself\u001b[0m\u001b[0;34m,\u001b[0m \u001b[0minput\u001b[0m\u001b[0;34m)\u001b[0m\u001b[0;34m:\u001b[0m\u001b[0;34m\u001b[0m\u001b[0;34m\u001b[0m\u001b[0m\n\u001b[1;32m    116\u001b[0m         \u001b[0;32mfor\u001b[0m \u001b[0mmodule\u001b[0m \u001b[0;32min\u001b[0m \u001b[0mself\u001b[0m\u001b[0;34m:\u001b[0m\u001b[0;34m\u001b[0m\u001b[0;34m\u001b[0m\u001b[0m\n\u001b[0;32m--> 117\u001b[0;31m             \u001b[0minput\u001b[0m \u001b[0;34m=\u001b[0m \u001b[0mmodule\u001b[0m\u001b[0;34m(\u001b[0m\u001b[0minput\u001b[0m\u001b[0;34m)\u001b[0m\u001b[0;34m\u001b[0m\u001b[0;34m\u001b[0m\u001b[0m\n\u001b[0m\u001b[1;32m    118\u001b[0m         \u001b[0;32mreturn\u001b[0m \u001b[0minput\u001b[0m\u001b[0;34m\u001b[0m\u001b[0;34m\u001b[0m\u001b[0m\n\u001b[1;32m    119\u001b[0m \u001b[0;34m\u001b[0m\u001b[0m\n",
      "\u001b[0;32m~/.local/lib/python3.6/site-packages/torch/nn/modules/module.py\u001b[0m in \u001b[0;36m_call_impl\u001b[0;34m(self, *input, **kwargs)\u001b[0m\n\u001b[1;32m    720\u001b[0m             \u001b[0mresult\u001b[0m \u001b[0;34m=\u001b[0m \u001b[0mself\u001b[0m\u001b[0;34m.\u001b[0m\u001b[0m_slow_forward\u001b[0m\u001b[0;34m(\u001b[0m\u001b[0;34m*\u001b[0m\u001b[0minput\u001b[0m\u001b[0;34m,\u001b[0m \u001b[0;34m**\u001b[0m\u001b[0mkwargs\u001b[0m\u001b[0;34m)\u001b[0m\u001b[0;34m\u001b[0m\u001b[0;34m\u001b[0m\u001b[0m\n\u001b[1;32m    721\u001b[0m         \u001b[0;32melse\u001b[0m\u001b[0;34m:\u001b[0m\u001b[0;34m\u001b[0m\u001b[0;34m\u001b[0m\u001b[0m\n\u001b[0;32m--> 722\u001b[0;31m             \u001b[0mresult\u001b[0m \u001b[0;34m=\u001b[0m \u001b[0mself\u001b[0m\u001b[0;34m.\u001b[0m\u001b[0mforward\u001b[0m\u001b[0;34m(\u001b[0m\u001b[0;34m*\u001b[0m\u001b[0minput\u001b[0m\u001b[0;34m,\u001b[0m \u001b[0;34m**\u001b[0m\u001b[0mkwargs\u001b[0m\u001b[0;34m)\u001b[0m\u001b[0;34m\u001b[0m\u001b[0;34m\u001b[0m\u001b[0m\n\u001b[0m\u001b[1;32m    723\u001b[0m         for hook in itertools.chain(\n\u001b[1;32m    724\u001b[0m                 \u001b[0m_global_forward_hooks\u001b[0m\u001b[0;34m.\u001b[0m\u001b[0mvalues\u001b[0m\u001b[0;34m(\u001b[0m\u001b[0;34m)\u001b[0m\u001b[0;34m,\u001b[0m\u001b[0;34m\u001b[0m\u001b[0;34m\u001b[0m\u001b[0m\n",
      "\u001b[0;32m~/.local/lib/python3.6/site-packages/torch/nn/modules/conv.py\u001b[0m in \u001b[0;36mforward\u001b[0;34m(self, input)\u001b[0m\n\u001b[1;32m    255\u001b[0m                             _single(0), self.dilation, self.groups)\n\u001b[1;32m    256\u001b[0m         return F.conv1d(input, self.weight, self.bias, self.stride,\n\u001b[0;32m--> 257\u001b[0;31m                         self.padding, self.dilation, self.groups)\n\u001b[0m\u001b[1;32m    258\u001b[0m \u001b[0;34m\u001b[0m\u001b[0m\n\u001b[1;32m    259\u001b[0m \u001b[0;34m\u001b[0m\u001b[0m\n",
      "\u001b[0;31mKeyboardInterrupt\u001b[0m: "
     ]
    }
   ],
   "source": [
    "train(model, opt, train_loader, scheduler, CTCLoss, device,\n",
    "     n_epochs=NUM_EPOCHS, val_dl=val_loader)"
   ]
  },
  {
   "cell_type": "code",
   "execution_count": null,
   "metadata": {},
   "outputs": [],
   "source": []
  },
  {
   "cell_type": "code",
   "execution_count": null,
   "metadata": {},
   "outputs": [],
   "source": []
  },
  {
   "cell_type": "code",
   "execution_count": null,
   "metadata": {},
   "outputs": [],
   "source": []
  },
  {
   "cell_type": "code",
   "execution_count": null,
   "metadata": {
    "scrolled": true
   },
   "outputs": [],
   "source": []
  },
  {
   "cell_type": "code",
   "execution_count": null,
   "metadata": {},
   "outputs": [],
   "source": []
  },
  {
   "cell_type": "code",
   "execution_count": null,
   "metadata": {},
   "outputs": [],
   "source": []
  },
  {
   "cell_type": "code",
   "execution_count": null,
   "metadata": {},
   "outputs": [],
   "source": []
  },
  {
   "cell_type": "code",
   "execution_count": null,
   "metadata": {},
   "outputs": [],
   "source": []
  }
 ],
 "metadata": {
  "kernelspec": {
   "display_name": "Python 3",
   "language": "python",
   "name": "python3"
  },
  "language_info": {
   "codemirror_mode": {
    "name": "ipython",
    "version": 3
   },
   "file_extension": ".py",
   "mimetype": "text/x-python",
   "name": "python",
   "nbconvert_exporter": "python",
   "pygments_lexer": "ipython3",
   "version": "3.6.9"
  }
 },
 "nbformat": 4,
 "nbformat_minor": 4
}
